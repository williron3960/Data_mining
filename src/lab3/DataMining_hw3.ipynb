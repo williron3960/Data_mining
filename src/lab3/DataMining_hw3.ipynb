{
  "nbformat": 4,
  "nbformat_minor": 0,
  "metadata": {
    "colab": {
      "name": "DataMining_hw3.ipynb",
      "provenance": [],
      "collapsed_sections": [],
      "toc_visible": true
    },
    "kernelspec": {
      "name": "python3",
      "display_name": "Python 3"
    }
  },
  "cells": [
    {
      "cell_type": "code",
      "metadata": {
        "id": "Ghtq-vr_oFsC"
      },
      "source": [
        "import numpy as np\n",
        "import os\n",
        "import matplotlib.pyplot as plt\n",
        "from matplotlib.ticker import MaxNLocator\n",
        "import random"
      ],
      "execution_count": 955,
      "outputs": []
    },
    {
      "cell_type": "markdown",
      "metadata": {
        "id": "wnJr3Vydz6cC"
      },
      "source": [
        "# Input Data Read"
      ]
    },
    {
      "cell_type": "code",
      "metadata": {
        "id": "bQ5ajuQnpLzP"
      },
      "source": [
        "path ='drive/MyDrive/Document/Documents/course/Datamining/HW3/hw3dataset/'"
      ],
      "execution_count": 956,
      "outputs": []
    },
    {
      "cell_type": "code",
      "metadata": {
        "id": "7moGSp43rUwF"
      },
      "source": [
        "file_name = list()           # 所有file的名字\n",
        "for file in os.listdir(path):\n",
        "  file_name.append(file)\n",
        "del file_name[-2]"
      ],
      "execution_count": 957,
      "outputs": []
    },
    {
      "cell_type": "code",
      "metadata": {
        "id": "--NOpqqu8BAc"
      },
      "source": [
        "file_name.sort(key = lambda s: s[6])"
      ],
      "execution_count": 958,
      "outputs": []
    },
    {
      "cell_type": "code",
      "metadata": {
        "id": "rPozPJc9rqqv"
      },
      "source": [
        "all_graph = list()\n",
        "for file in file_name:\n",
        "\n",
        "  all_graph.append(list())\n",
        "  file_path = path + file\n",
        "\n",
        "  fp = open(file_path, 'r')\n",
        "  line = fp.readline()\n",
        "  while line:\n",
        "    all_graph[-1].append(eval(line.replace('\\n','')))\n",
        "    line = fp.readline()\n",
        "  fp.close()"
      ],
      "execution_count": 959,
      "outputs": []
    },
    {
      "cell_type": "markdown",
      "metadata": {
        "id": "N3QGucDWr_pI"
      },
      "source": [
        "# add link"
      ]
    },
    {
      "cell_type": "code",
      "metadata": {
        "id": "RpTifGW9r-gk"
      },
      "source": [
        "data  = [i for i in range(1,7)]\n",
        "for i in range(4):\n",
        "  for j in range(3):\n",
        "    nodea = random.choice(data[:6-j])\n",
        "    nodeb = 1\n",
        "    edge = (nodea,nodeb) \n",
        "    if nodea == nodeb or edge in all_graph[j]:\n",
        "      continue\n",
        "    all_graph[j].append(edge)"
      ],
      "execution_count": 960,
      "outputs": []
    },
    {
      "cell_type": "markdown",
      "metadata": {
        "id": "AHF1-g_wz_JS"
      },
      "source": [
        "# Define adjacency list"
      ]
    },
    {
      "cell_type": "code",
      "metadata": {
        "id": "4jnljH9fE4rN"
      },
      "source": [
        "class ListNode(object):\n",
        "  def __init__(self, value = None, next = None):\n",
        "    self.val = value\n",
        "    self.next = next"
      ],
      "execution_count": 961,
      "outputs": []
    },
    {
      "cell_type": "code",
      "metadata": {
        "id": "CZnFAwPclJ_c"
      },
      "source": [
        "class LinkedList(object):\n",
        "  def __init__(self, head = None):\n",
        "    self.head = head\n",
        "\n",
        "  def append(self, value):\n",
        "    if not self.head:\n",
        "        self.head = ListNode(value)\n",
        "        return\n",
        "    node = self.head\n",
        "    while node.next:\n",
        "        node = node.next\n",
        "    node.next = ListNode(value)\n",
        "\n",
        "  def print_nodes(self):\n",
        "    if not self.head:\n",
        "        print(self.head)\n",
        "    node = self.head\n",
        "    while node:\n",
        "        end = \" -> \" if node.next else \"\\n\"\n",
        "        print(node.val, end=end)\n",
        "        node = node.next\n",
        "  def at(self, index):\n",
        "    count = 0\n",
        "    node = self.head\n",
        "    while node:\n",
        "        if count == index:\n",
        "            return node.val\n",
        "        count += 1\n",
        "        node = node.next\n",
        "  def length(self):\n",
        "    if not self.head:\n",
        "      return 0\n",
        "    i = int()\n",
        "    node = self.head\n",
        "    while node:\n",
        "      i += 1\n",
        "      node = node.next\n",
        "    return i"
      ],
      "execution_count": 962,
      "outputs": []
    },
    {
      "cell_type": "code",
      "metadata": {
        "id": "VjIOjOo1ue1X"
      },
      "source": [
        "def create_graph( all_graph):\n",
        "  graph_data = list()\n",
        "  for graph in all_graph:\n",
        "    graph_data.append(list())     # create a graph in list tail\n",
        "\n",
        "    for edge in graph:\n",
        "      flag = True            # To find whether the node in graph\n",
        "\n",
        "      for linklist in graph_data[-1]:\n",
        "        if linklist.head.val == edge[0]:\n",
        "          linklist.append(edge[-1])\n",
        "          flag = False\n",
        "          break\n",
        "\n",
        "      if flag:\n",
        "        graph_data[-1].append(LinkedList())\n",
        "        for i in range(2):\n",
        "          graph_data[-1][-1].append(edge[i])\n",
        "    \n",
        "  return graph_data"
      ],
      "execution_count": 963,
      "outputs": []
    },
    {
      "cell_type": "code",
      "metadata": {
        "id": "RqiL1OSKpE7C"
      },
      "source": [
        "# def create_graph_mtx(all_graph):\n",
        "#   adj_matrix = list()\n",
        "#   for graph in all_graph:\n"
      ],
      "execution_count": 964,
      "outputs": []
    },
    {
      "cell_type": "code",
      "metadata": {
        "id": "0SM3UHDi5edi"
      },
      "source": [
        "def print_allgraph( graph):\n",
        "  for i in graph:\n",
        "    print('-----------')\n",
        "    for j in i:\n",
        "      j.print_nodes()"
      ],
      "execution_count": 965,
      "outputs": []
    },
    {
      "cell_type": "code",
      "metadata": {
        "id": "jg2168iw5V26"
      },
      "source": [
        "adjlist_graph = create_graph( all_graph)"
      ],
      "execution_count": 966,
      "outputs": []
    },
    {
      "cell_type": "code",
      "metadata": {
        "id": "0eR852LpAikm"
      },
      "source": [
        "def create_init_ah( adjlist_graph):\n",
        "  hits = list()\n",
        "  for graph in adjlist_graph:\n",
        "    dic1 = dict()\n",
        "    for linklist in graph:\n",
        "      node = linklist.head\n",
        "      while node:\n",
        "        temp = dict()\n",
        "        temp[node.val] = 1\n",
        "        node = node.next\n",
        "        dic1.update(temp)\n",
        "    dic2 = dic1.copy()\n",
        "    hits.append( [dic1, dic2])\n",
        "  return hits"
      ],
      "execution_count": 967,
      "outputs": []
    },
    {
      "cell_type": "code",
      "metadata": {
        "id": "lF5HTb0-Wz8T"
      },
      "source": [
        "def create_zero_ah( adjlist_graph):\n",
        "  hits = list()\n",
        "  for graph in adjlist_graph:\n",
        "    dic1 = dict()\n",
        "    for linklist in graph:\n",
        "      node = linklist.head\n",
        "      while node:\n",
        "        temp = dict()\n",
        "        temp[node.val] = 0\n",
        "        node = node.next\n",
        "        dic1.update(temp)\n",
        "    dic2 = dic1.copy()\n",
        "    hits.append( [dic1, dic2])\n",
        "  return hits"
      ],
      "execution_count": 968,
      "outputs": []
    },
    {
      "cell_type": "code",
      "metadata": {
        "id": "_247z1gDKaJ7"
      },
      "source": [
        "hits = create_init_ah( adjlist_graph)"
      ],
      "execution_count": 969,
      "outputs": []
    },
    {
      "cell_type": "markdown",
      "metadata": {
        "id": "6y2asust7d2i"
      },
      "source": [
        "# HITS Algo."
      ]
    },
    {
      "cell_type": "code",
      "metadata": {
        "id": "--IZSX4YM0hd"
      },
      "source": [
        "def init_ah(hits):\n",
        "  for G in hits:\n",
        "    for i in range(2):\n",
        "      sums = sum( G[i].values( ))\n",
        "      for k, v in G[i].items():\n",
        "        G[i][k] = v/sums\n",
        "  return hits"
      ],
      "execution_count": 970,
      "outputs": []
    },
    {
      "cell_type": "code",
      "metadata": {
        "id": "tBOMmUU5CQaM"
      },
      "source": [
        "def calculate_ah( hits, adjlist_graph):\n",
        "  new_dict = create_zero_ah( adjlist_graph)\n",
        "  for i in range( len( adjlist_graph ) ):\n",
        "\n",
        "    for linklist in adjlist_graph[i]:\n",
        "      node = linklist.head\n",
        "      head_val = node.val\n",
        "      node = node.next\n",
        "\n",
        "      while node:\n",
        "        new_dict[i][1][node.val] += hits[i][0][head_val]\n",
        "        new_dict[i][0][head_val] += hits[i][1][node.val]\n",
        "        node = node.next\n",
        "        \n",
        "  return new_dict"
      ],
      "execution_count": 971,
      "outputs": []
    },
    {
      "cell_type": "code",
      "metadata": {
        "id": "q_COol5xhFoY"
      },
      "source": [
        "new_hits = calculate_ah( hits, adjlist_graph)\n",
        "new_hits = init_ah(new_hits)\n",
        "for i in range(20):\n",
        "  del hits\n",
        "  hits = new_hits\n",
        "  del new_hits\n",
        "  hits = init_ah(hits)\n",
        "  new_hits = calculate_ah(hits, adjlist_graph)\n",
        "  new_hits = init_ah(new_hits)"
      ],
      "execution_count": 972,
      "outputs": []
    },
    {
      "cell_type": "markdown",
      "metadata": {
        "id": "pR8ENBLPJymj"
      },
      "source": [
        "## write"
      ]
    },
    {
      "cell_type": "code",
      "metadata": {
        "id": "v_EsjvGeJx4C"
      },
      "source": [
        "for i in range(len(new_hits)):\n",
        "\n",
        "  f = open('graph_'+str(i+1)+'_HITS_hub.txt','w')\n",
        "  temp = list(new_hits[i][0].values())\n",
        "  for j in range(len(temp)):\n",
        "    if j < len(temp) - 1:\n",
        "      f.write(str(temp[j])+' ')\n",
        "    else:\n",
        "      f.write(str(temp[j])+'\\n')\n",
        "  f.close()\n",
        "\n",
        "  f = open('graph_'+str(i+1)+'_HITS_authority.txt','w')\n",
        "  tem = list(new_hits[i][1].values())\n",
        "  for j in range(len(tem)):\n",
        "    if j < len(tem) - 1:\n",
        "      f.write(str(tem[j])+' ')\n",
        "    else:\n",
        "      f.write(str(tem[j])+'\\n')\n",
        "\n",
        "  f.close()"
      ],
      "execution_count": 973,
      "outputs": []
    },
    {
      "cell_type": "markdown",
      "metadata": {
        "id": "ft9xNfjDFkwB"
      },
      "source": [
        "result : news_hits"
      ]
    },
    {
      "cell_type": "markdown",
      "metadata": {
        "id": "fVCi8XlIFeE4"
      },
      "source": [
        "# PageRank Algo."
      ]
    },
    {
      "cell_type": "code",
      "metadata": {
        "id": "ZOCgOjXAup4a"
      },
      "source": [
        "def create_init_pr( adjlist_graph):\n",
        "  pr = list()\n",
        "  for graph in adjlist_graph:\n",
        "    dic1 = dict()\n",
        "    for linklist in graph:\n",
        "      node = linklist.head\n",
        "      while node:\n",
        "        temp = dict()\n",
        "        temp[node.val] = 1\n",
        "        node = node.next\n",
        "        dic1.update(temp)\n",
        "    pr.append( dic1)\n",
        "  return pr"
      ],
      "execution_count": 974,
      "outputs": []
    },
    {
      "cell_type": "code",
      "metadata": {
        "id": "i0WiG618Is1G"
      },
      "source": [
        "def create_zero_pr( adjlist_graph):\n",
        "  pr = list()\n",
        "  for graph in adjlist_graph:\n",
        "    dic1 = dict()\n",
        "    for linklist in graph:\n",
        "      node = linklist.head\n",
        "      while node:\n",
        "        temp = dict()\n",
        "        temp[node.val] = 0\n",
        "        node = node.next\n",
        "        dic1.update(temp)\n",
        "    pr.append( dic1)\n",
        "  return pr"
      ],
      "execution_count": 975,
      "outputs": []
    },
    {
      "cell_type": "code",
      "metadata": {
        "id": "DYmyjfiuGuYT"
      },
      "source": [
        "pr = create_init_pr(adjlist_graph)"
      ],
      "execution_count": 976,
      "outputs": []
    },
    {
      "cell_type": "code",
      "metadata": {
        "id": "s6RvnC6-Gcyz"
      },
      "source": [
        "def init_pr(pr):\n",
        "  for G in pr:\n",
        "    sums = sum( G.values( ))\n",
        "    if sums == 0:\n",
        "      continue\n",
        "    for k, v in G.items():\n",
        "      G[k] = v/sums\n",
        "  return pr"
      ],
      "execution_count": 977,
      "outputs": []
    },
    {
      "cell_type": "code",
      "metadata": {
        "id": "yceXIDCNEuTc"
      },
      "source": [
        "def calculate_pr(pr, adjlist_graph, damping_factor = 0.15):\n",
        "  new_pr = create_zero_pr( adjlist_graph)\n",
        "  for i in range( len( pr ) ):\n",
        "    for linklist in adjlist_graph[i]:\n",
        "      linklist_lens = linklist.length() - 1\n",
        "      node = linklist.head\n",
        "      head_val = node.val\n",
        "      node = node.next\n",
        "      while node:\n",
        "        new_pr[i][node.val] += pr[i][head_val] / linklist_lens\n",
        "        node = node.next\n",
        "    n = len(pr[i])\n",
        "    for k, v in new_pr[i].items():\n",
        "      new_pr[i][k] = ( damping_factor / n ) + (1 - damping_factor) * v\n",
        "  return new_pr"
      ],
      "execution_count": 978,
      "outputs": []
    },
    {
      "cell_type": "code",
      "metadata": {
        "id": "rdVgrMqTLRHu"
      },
      "source": [
        "new_pr = calculate_pr( pr, adjlist_graph)\n",
        "new_pr = init_pr(new_pr)\n",
        "for i in range(100):\n",
        "  del pr\n",
        "  pr = new_pr\n",
        "  del new_pr\n",
        "  pr = init_pr(pr)\n",
        "  new_pr = calculate_pr(pr, adjlist_graph)\n",
        "  new_pr = init_pr(new_pr)"
      ],
      "execution_count": 979,
      "outputs": []
    },
    {
      "cell_type": "markdown",
      "metadata": {
        "id": "EdjaGsekGmsP"
      },
      "source": [
        "## write"
      ]
    },
    {
      "cell_type": "code",
      "metadata": {
        "id": "VAxyc4_SF4sf"
      },
      "source": [
        "for i in range(len(new_pr)):\n",
        "\n",
        "  f = open('graph_'+str(i+1)+'_PageRank.txt','w')\n",
        "  temp = list(new_pr[i].values())\n",
        "  for j in range(len(temp)):\n",
        "    if j < len(temp) - 1:\n",
        "      f.write(str(temp[j])+' ')\n",
        "    else:\n",
        "      f.write(str(temp[j])+'\\n')\n",
        "  f.close()"
      ],
      "execution_count": 980,
      "outputs": []
    },
    {
      "cell_type": "markdown",
      "metadata": {
        "id": "ambmu_v_ZzD4"
      },
      "source": [
        "# SimRank"
      ]
    },
    {
      "cell_type": "markdown",
      "metadata": {
        "id": "x6UYsJPuoimn"
      },
      "source": [
        "Matrix form of S\n",
        "\n",
        "![截圖 2021-01-08 上午12.16.25.png](data:image/png;base64,iVBORw0KGgoAAAANSUhEUgAAAtoAAABVCAYAAAB3l0MXAAAK3GlDQ1BJQ0MgUHJvZmlsZQAASImVlwdUk1kWgN//pzcIJIQiJfQmSCeAlNBDEaSDqIQkkFBiTAgqNlQGR3BEEZFiBQdFFBwdARkLYkGFQbFhH5BBQVkHCzZU9geWMDN7dvfszXn//c7Nfbf8572cGwAoIVyJJAOmApApzpJGBHgz4+ITmLgBAAEcoAN1YM/lySTs8PAQgMi0/qu8v4t4I3LLaiLWv3//X0WVL5DxAIASEU7my3iZCLci6xVPIs0CAHUMsRsuy5JM8G2E6VKkQIQHJzh1ir9McPIko6mTPlERPggbAYAnc7nSVADINoidmc1LReKQwxG2EfNFYoRzEfbgCbl8hJG8YHZm5pIJHkbYDPGXAEChI8xK/lPM1L/ET1bE53JTFTzV16TgfUUySQZ3xf/5av63ZGbIp3OYIIsslAZGIJqBvL976UuCFSxOnhc2zSL+pP8kC+WB0dPMk/kkTDOf6xus2JsxL2SaU0T+HEWcLE7UNAtkfpHTLF0SociVIvVhTzNXOpNXnh6tsAsFHEX8HGFU7DRni2LmTbMsPTJ4xsdHYZfKIxT1C8QB3jN5/RW9Z8r+1K+Io9ibJYwKVPTOnalfIGbPxJTFKWrjC3z9ZnyiFf6SLG9FLklGuMJfkBGgsMuyIxV7s5DDObM3XPEO07hB4dMMfIEfCEE+TBAN7IADsEWeoQBkCZZnTTTjs0SyQipKFWYx2ciNEzA5Yp71bKadjZ0tABP3d+pIvL03eS8hBn7GJkHiu/gid6Z6xpasBUATco40CTM2o4MAKMcB0JjLk0uzp2zoiQcGEIEy8sugCXSBITADVkhlTsANeCEVB4EwEAXiwSLAA0KQCaRgGVgF1oF8UAi2gh2gAuwF1eAQOAqOgyZwGpwHl0EHuAHugIegFwyAl2AEvAdjEAThIApEgzQhPcgYsoTsIBbkAflBIVAEFA8lQamQGJJDq6ANUCFUDFVA+6Fa6CfoFHQeugp1Q/ehPmgIegN9hlEwGabDOrAJPAdmwWw4GI6CF8Kp8FI4B86Dt8BlcBV8BG6Ez8Md8B24F34Jj6IAioRioPRRVigWygcVhkpApaCkqDWoAlQpqgpVj2pBtaNuoXpRw6hPaCyahmairdBu6EB0NJqHXopeg96MrkAfQjeiL6JvofvQI+hvGApGG2OJccVwMHGYVMwyTD6mFFODOYm5hLmDGcC8x2KxDKwp1hkbiI3HpmFXYjdjd2MbsK3Ybmw/dhSHw2niLHHuuDAcF5eFy8eV447gzuFu4gZwH/EkvB7eDu+PT8CL8evxpfjD+LP4m/jn+DEClWBMcCWEEfiEFYQiwgFCC+E6YYAwRlQhmhLdiVHENOI6YhmxnniJ+Ij4lkQiGZBcSPNJIlIuqYx0jHSF1Ef6RFYlW5B9yIlkOXkL+SC5lXyf/JZCoZhQvCgJlCzKFkot5QLlCeWjEk3JWomjxFdaq1Sp1Kh0U+mVMkHZWJmtvEg5R7lU+YTydeVhKoFqQvWhcqlrqJXUU9Qe6qgKTcVWJUwlU2WzymGVqyqDqjhVE1U/Vb5qnmq16gXVfhqKZkjzofFoG2gHaJdoA3Qs3ZTOoafRC+lH6V30ETVVNQe1GLXlapVqZ9R6GSiGCYPDyGAUMY4z7jI+q+uos9UF6pvU69Vvqn/QmKXhpSHQKNBo0Lij8VmTqemnma65TbNJ87EWWstCa77WMq09Wpe0hmfRZ7nN4s0qmHV81gNtWNtCO0J7pXa1dqf2qI6uToCORKdc54LOsC5D10s3TbdE96zukB5Nz0NPpFeid07vBVONyWZmMMuYF5kj+tr6gfpy/f36XfpjBqYG0QbrDRoMHhsSDVmGKYYlhm2GI0Z6RqFGq4zqjB4YE4xZxkLjncbtxh9MTE1iTTaaNJkMmmqYckxzTOtMH5lRzDzNlppVmd02x5qzzNPNd5vfsIAtHC2EFpUW1y1hSydLkeVuy+7ZmNkus8Wzq2b3WJGt2FbZVnVWfdYM6xDr9dZN1q/mGM1JmLNtTvucbzaONhk2B2we2qraBtmut22xfWNnYcezq7S7bU+x97dfa99s/9rB0kHgsMfhniPNMdRxo2Ob41cnZyepU73TkLORc5LzLuceFp0VztrMuuKCcfF2Wety2uWTq5Nrlutx1z/crNzS3Q67Dc41nSuYe2Buv7uBO9d9v3uvB9MjyWOfR6+nvifXs8rzqZehF9+rxus525ydxj7CfuVt4y31Pun9wcfVZ7VPqy/KN8C3wLfLT9Uv2q/C74m/gX+qf53/SIBjwMqA1kBMYHDgtsAejg6Hx6nljAQ5B60OuhhMDo4Mrgh+GmIRIg1pCYVDg0K3hz6aZzxPPK8pDIRxwraHPQ43DV8a/st87Pzw+ZXzn0XYRqyKaI+kRS6OPBz5Pso7qijqYbRZtDy6LUY5JjGmNuZDrG9scWxv3Jy41XEd8VrxovjmBFxCTEJNwugCvwU7FgwkOibmJ95daLpw+cKri7QWZSw6s1h5MXfxiSRMUmzS4aQv3DBuFXc0mZO8K3mE58PbyXvJ9+KX8IcE7oJiwfMU95TilMFU99TtqUNCT2GpcFjkI6oQvU4LTNub9iE9LP1g+nhGbEZDJj4zKfOUWFWcLr64RHfJ8iXdEktJvqR3qevSHUtHpMHSGhkkWyhrzqIjg1Kn3Ez+nbwv2yO7MvvjsphlJ5arLBcv71xhsWLTiuc5/jk/rkSv5K1sW6W/at2qvtXs1fvXQGuS17StNVybt3YgNyD30DriuvR1v663WV+8/t2G2A0teTp5uXn93wV8V5evlC/N79notnHv9+jvRd93bbLfVL7pWwG/4FqhTWFp4ZfNvM3XfrD9oeyH8S0pW7qKnIr2bMVuFW+9u81z26FileKc4v7todsbS5glBSXvdizecbXUoXTvTuJO+c7espCy5nKj8q3lXyqEFXcqvSsbdmnv2rTrw27+7pt7vPbU79XZW7j38z7Rvnv7A/Y3VplUlVZjq7Ornx2IOdD+I+vH2hqtmsKarwfFB3sPRRy6WOtcW3tY+3BRHVwnrxs6knjkxlHfo831VvX7GxgNhcfAMfmxFz8l/XT3ePDxthOsE/U/G/+86yTtZEEj1LiicaRJ2NTbHN/cfSroVFuLW8vJX6x/OXha/3TlGbUzRWeJZ/POjp/LOTfaKmkdPp96vr9tcdvDC3EXbl+cf7HrUvClK5f9L19oZ7efu+J+5fRV16unrrGuNXU4dTR2Onae/NXx15NdTl2N152vN99wudHSPbf77E3Pm+dv+d66fJtzu+POvDvdd6Pv3utJ7Om9x783eD/j/usH2Q/GHuY+wjwqeEx9XPpE+0nVb+a/NfQ69Z7p8+3rfBr59GE/r//l77LfvwzkPaM8K32u97x20G7w9JD/0I0XC14MvJS8HBvO/4fKP3a9Mnv18x9ef3SOxI0MvJa+Hn+z+a3m24PvHN61jYaPPnmf+X7sQ8FHzY+HPrE+tX+O/fx8bNkX3Jeyr+ZfW74Ff3s0njk+LuFKuZOjAApZcEoKAG+QOYESDwDtBgDEBVPz9aRAU/8JJgn8J56awSfFCYDqVgCicgEIQXQ5ok2QpewFQDiyorwAbG+vWP8SWYq93VQsUhMympSOj79F5kecOQBfe8bHx5rGx7/WIMU+AKD1/dRcPyHUIwDsy7F3sAvpKKHmgr/J1Mz/px7/rsFEBQ7g7/qfZ4gZwu58rgIAAABWZVhJZk1NACoAAAAIAAGHaQAEAAAAAQAAABoAAAAAAAOShgAHAAAAEgAAAESgAgAEAAAAAQAAAtqgAwAEAAAAAQAAAFUAAAAAQVNDSUkAAABTY3JlZW5zaG90IK0a3wAAAdVpVFh0WE1MOmNvbS5hZG9iZS54bXAAAAAAADx4OnhtcG1ldGEgeG1sbnM6eD0iYWRvYmU6bnM6bWV0YS8iIHg6eG1wdGs9IlhNUCBDb3JlIDUuNC4wIj4KICAgPHJkZjpSREYgeG1sbnM6cmRmPSJodHRwOi8vd3d3LnczLm9yZy8xOTk5LzAyLzIyLXJkZi1zeW50YXgtbnMjIj4KICAgICAgPHJkZjpEZXNjcmlwdGlvbiByZGY6YWJvdXQ9IiIKICAgICAgICAgICAgeG1sbnM6ZXhpZj0iaHR0cDovL25zLmFkb2JlLmNvbS9leGlmLzEuMC8iPgogICAgICAgICA8ZXhpZjpQaXhlbFhEaW1lbnNpb24+NzMwPC9leGlmOlBpeGVsWERpbWVuc2lvbj4KICAgICAgICAgPGV4aWY6VXNlckNvbW1lbnQ+U2NyZWVuc2hvdDwvZXhpZjpVc2VyQ29tbWVudD4KICAgICAgICAgPGV4aWY6UGl4ZWxZRGltZW5zaW9uPjg1PC9leGlmOlBpeGVsWURpbWVuc2lvbj4KICAgICAgPC9yZGY6RGVzY3JpcHRpb24+CiAgIDwvcmRmOlJERj4KPC94OnhtcG1ldGE+CtVwLnQAAClcSURBVHgB7Z0H2BxV9f9vAOkBQpFOqKEHCCChSJcaDEjvIAm9CChgEAlNUKo0FaSLIkVAQjMUIaEkEEQEAhEQgZCQ0DFUcf7nc3/P3f/s7OzuzPtumX3f73me992dO/feufOd2Zlzz/2ec/pEJk4iBISAEBACQkAICAEhIASEQEMRmKmhvakzISAEhIAQEAJCQAgIASEgBDwCUrR1IwgBISAEhIAQEAJCQAgIgSYgIEW7CaCqSyEgBISAEBACQkAICAEhIEVb94AQEAJCQAgIASEgBISAEGgCAlK0mwCquhQCQkAICAEhIASEgBAQAlK0dQ8IASEgBISAEBACQkAICIEmICBFuwmgqkshIASEgBAQAkJACAgBISBFW/eAEBACQkAICAEhIASEgBBoAgJStJsAqroUAkJACAgBISAEhIAQEAJStHUPCAEhIASEgBAQAkJACAiBJiAgRbsJoKpLISAEhIAQEAJCQAgIASEgRbuD7oH//ve/7uijj3avvfZa5lEPHz7cffjhh5nrq6IQEAJCQAgIASEgBIRAYxCQot0YHN2MGTPc559/3qDeKruJosjtvvvubqWVVnLLLrtsqcL//vc/N2bMGHf22We7O++8s1Qevuyzzz5um222ce+9914o0qcQEAJCQAgIASEgBIRACxCQot1NkLEyjxw50i2wwALuhBNO6GZv1Ztfcskl7osvvnCHH354qRLK8/LLL+8eeught/nmm7t7773X7bTTTu7jjz8u1dlkk03crrvu6g477LBSmb4IASEgBISAEBACQkAINB+BPmYpjZp/mJ55hClTprgddtjBTZgwwa277rru5ptvdksvvXTDT/brr792Sy21lBs9erRbZZVVSv1jrf7kk09Klmys22uvvbZXrEeMGFGq95///Mcttthi7i9/+YsbPHhwqVxfhIAQEAJCQAgIASEgBJqHgCzaXcR22rRpbtNNN/VK9n777ecee+yxpijZDO++++7zFvO4kv3ll1+6W2+91VuywynMNNNMbv3113dXX311KPKfc889t1e+L7300rJybQgBISAEhIAQEAJCQAg0DwEp2l3E9vjjj3eTJk1yW2yxhbvqqqvcN77xjS72VL/Z9ddf73nW8ZrPP/+8p5Isssgi8WL3zW9+0ztLYgWPyy677OIeeOABpwWMOCr6LgSEgBAQAkJACAiB5iEgRbsL2I4dO9b97ne/c7POOqu74oor3CyzzJK7F2ger776qleK4XkHgY4S36b8pZdecksssUSo4j8/+OAD/5lU8BkLyvT7779fVr9///7unXfecZMnTy4r14YQEAJCQAgIASEgBIRAcxCQot0FXM844wzfCifDeASQLF299dZbbuedd3bQOVZYYQW33HLLuTnnnNMNGzbMXXnllW6ZZZbxUUTifaEcL7roovEi16dPH7+Nwh6XTz/91G9+9dVX8WIXLN/Tp08vK2/lxsCBA93CCy/sFl98cT9xYPLAd8q23377Vg5FxxICQkAICAEhIASEQNMRyG+KbfqQin0AIn88+uijfpBDhgzJNVis0DhNEtf6hhtu8Mol/T3zzDPuxBNP9BQUOkwqz2wnQwcutNBC/tjJcvqeeeaZ3fzzz182tqCAs69dcs0117iPPvrInXfeeT5CCuPYa6+93EEHHeTmmWeedg1LxxUCQkAICAEhIASEQFMQkKKdE1aoHUG5HTBgQK7WKJhTp051e++9t4MzjcwxxxzeofHxxx93G264oXvqqacq+lxwwQU9fSS+A8dIrOJvvvlmvNgr8ViOZ5999rLyF154wW9DIWmXEBEFufHGG0tDIEoLoQklQkAICAEhIASEgBDoaQiIOpLzisb503PNNVeu1uPHj/f1A+0j3hiu9ZlnnhkvKn1fa6213MSJE0vbfMEyfcghh3ilNdBEiESCtf2II44oq8sGina/fv3cvPPOW7FPBUJACAgBISAEhIAQEAKNR0CKdjcwTVOYa3WH9RrBkfLYY491L7/8cll1kstALQm0kLBzq622qrBos++ss87yHO899tjDkdBmxx13dEOHDvVUjNA2fKJos18iBISAEBACQkAICAEh0BoEpGi3Bmd/FOJuB7nooot8OnXC8cH1vuCCC9xnn33msHpD/YgLTpdkgXzuuefixW622WbzyWoIL7jaaqu52267zV122WVlddggU+T999/vDjzwwIp9KhACQkAICAEhIASEgBBoDgLKDJkT11deecVHC6EZFuk8PG0UaazWaTxs+oNzTeQRLNRJQYEmDvbtt9+e3FV3e/jw4V6Jx5KeRR588EGv+OeJuU2yHFLQb7zxxnUPgfNjSKpDBkss8xIhIASEgBAQAkJACPQ0BOQM2cIrCnWEDJKnn366+9WvfuWt1PHDkyp9//339+nWN9hgg/gud+ihh7px48a5Cy+80NNOynbW2CDtOnG/qyn3aU2ZPGBFz6NoQ6MhVKFECAgBISAEhIAQEAJC4P8QkKLd4jsBp0ficJ922mneQfHJJ5/0ivA999zj3n33XYdDI1btpKKN8+O1117rjjnmGPfGG294ZTzL0MkqSd9Yy7PKkksu6Q444ICs1Rtej6yWyTCEaWUNP7A6FAJCQAgIASEgBIRAAxEQR7uBYNbr6sgjj3S33HKLrwbVYvXVV3fQOq677jqvdK+xxhp+35gxY1K7og1Oj0sttVTq/rRC6CIkwekUwfoO/QTrOHz1k08+2Sf4GTRoUG4re6ecs8YpBISAEBACQkAI9EwEZNFu4XWF+vHiiy96hTF5WJwiDz/8cB+yLxkDO1m32dsou1jV8wrjX2+99fI2K6uPpX/UqFFuo4028vG14XLD4Z40aZJbccUV3d///ne35pprlrXRhhAQAkJACAgBISAEioiAFO0WX5VHHnnEc63TFFIyRyKDBw9u8ajKD0dKdKzteTnaybCE5b3W3+J4JO2BXoNiffTRR7vddtvNN/znP//pP/NQYOofUTWEgBAQAkJACAgBIdA8BKRoNw/b1J5Jpw41gpTrO+20kw/L98knn/jwe1huUSRPPfXU1LatKlxhhRXcD3/4w4YfDms0KeffeuutUt9vv/22p4hw3mS7HDlypMOBk8RA8XCETFDIkLn88suX2uqLEBACQkAICAEhIASKjIA42i28OnCsCe9HzGxiXsM7nnXWWd0CCyzg9t13X0cGyAkTJjicEXui7Lnnnm6zzTZzTzzxhM9QSZZKcKBs2LBhpVNGqYZKQ2xwhMnJH//4R8/VZlIST+FeaqQvQkAICAEhIASEgBAoGAKzFGw8PXo4OCb279/fK9ekSf/www/dm2++6a23K6+8sms3N7vZ4MNPzyJ//etfy+Jx/+Mf//CRVpiMEN5wkUUWydKN6ggBISAEhIAQEAJCoK0IKGFNTvi7k7Am56F6bfW+ffv66CohxCA0Ehwg4Y4vuuiiPszhLLNojthrbxCduBAQAkJACAiBDkFA2kqHXKjeNMxXX33VU0fCOaNUw++ePn26rNkBFH0KASEgBISAEBAChUdAinbOSwRfWNJcBOBnJ4UENqKMJFHRthAQAkJACAiBzkLgtdde80ERCAyRJmTJfuCBB3xGa+i1ZNKGQjrnnHO6gQMHpjUpdJmcIXNenhkzZuRsoepCQAgIASEgBISAEBACN910k9t2223d/PPPXwHGZ5995s4//3y37LLL+uzZSy+9tDv33HPdXHPN5aOO7bPPPo7cGp0msmjnvGIfffSRb9GnT58yekPOblRdCAgBISAEhIAQEAK9BoFrrrnGnXLKKY6AB8lQve+//77bcsstPU30pJNO8qF+yakRhPqjR4/2yeyI1obS3Skii3bOKxUSpxDzeb755svZWtWLgAAhAiVCoCsIfPrpp11ppjZCQAgIgV6NwMSJE93BBx/sLr744gol+7333nNbbLGF+9vf/uYVbHKKxJXsABwBEQiPPHz4cPfcc8+F4sJ/StHOeYnuvfde32KDDTbI2VLV240A/Hp+oLp27b4SnXv83Xff3Q0dOtR9+eWXnXsSGrkQEAJCoMUIkARvnXXWcd/73vcqjvyDH/zAPfvss27TTTd1J598csX+eMEOO+zg1lhjDbfffvvlyl4d76PV36Vo50CcaBh//vOfHVEwjjnmmBwtVbUICBxyyCE+8Q3JbyRCoCsI3HDDDQ5Hnj322KNjHvJdOU+1EQJCQAg0CgGyPd9zzz1uyJAhFV2+/vrrDt42cvTRR7uXXnrJPfjgg45QytWErNpEIvvTn/5UrUqhyqVoZ7wcxHJmBvX11187ks2suuqqGVuqWhEQuPzyy91VV13lrr/+ep/qvQhj0hg6DwHoYjzceRFwT0mEgBAQAkKgNgIk60PgYCflsssu80n7KIe/jW5FvRVWWMFn0p46dWqySSmh3V133VWxr4gFUrQzXpUTTjjBPf744z5d+M9+9rOMrVStCAjA+zr22GP9ktSOO+5YhCFpDB2MAC+AX/7yl45nQvDZ6ODT0dCFgBAQAk1FAH42suSSS1YcJ3CtBwwY4H7xi184QvtNmDDBsf3oo4+mWsFXWmkl388LL7xQ0V8RC6Ro17kqn3/+ufv+97/vU39vs802btSoUT6WY51mTdmNVZ2lFZauiyAoG2PHji3CUGqO4aijjvKhhEaMGFGznnZWItDVew4u/IcffljZYQ8pIWvpuuuu6/bff3+/ytVDTkunIQSEgBBoKAJRFHk6CJ2mhfT717/+5Y8HHXe77bbzofwGDRrkaZ7sQOkmSklc5p13XkfktxdffLEjKHxStONXL+X7aaed5ghJgxcsHCMCprdDuFlxxGImR4zJIDgOLLHEEj7GJHWaIW+99Za76KKLKro+8MADvaX4oYceqthXlIJbbrnFPfbYY+7EE090c8wxR1GG1RHj6M49R+glJqZ4kxdVzjnnHPfd73637h98wK+++qriNEaOHOmeeOIJx9KnRAgIASEgBCoRePfdd72Vmigis88+e0WFmWb6PzU0qYSvueaaJYouyWriQpu5557bEQUK/aTwYi9TSQ0E7EUaWabCaPHFF48efvjhGjWbu8usx9H222+fehDKLcNS6r5qhaZkREapqLbbl//mN7+JzOkr6tevXzTbbLOl1rWl88gyNkYWAzN1f7sLV155ZT8++0G2eygdd/zu3nPnnXdetOuuuxbyvC3EY9S3b9/owgsvjP79739HFh8/uvLKK5mpRpaFLGI/97Rx+iOznlQ9B7O8RMstt1xkEW2q1tEOISAEhEBvRcD82iIzUPpn6xdffFEBg0UR8fss7F/FPnQbnslm6KzYZ4p7ZAp31Anvdlm060yFBg8e7J5++mm/5EGcx0suuaROi8bvxgHz5z//uecvJXsnZB3c8U022SS5q+Y2vKh6M0HSo2L1g4taTQgi/+1vf9udeeaZ1aq0rRx+F9ywH/3oR7Jm57wKjbjniPJy3333uSeffDLn0Ztf/Y477vAxXQkrtdRSS7l55pnH/845Mjx+rCU2wfRJEeAKVpPjjjvOEY0I50iJEBACQkAIlCOA9dkMXr4wjU4Y9qVFGYEegqy44or+M/wjFwarjEtb5shOWKmWoh2uXI1PCPx33nmnMwuYO/744328xxrVG74LZWWBBRZIjZaBwvzBBx+4TTfdtHRclKRGCDSV/v371+0KDvsVV1yRurxet3ETK5hF3ve+8847N/EoPbPrRtxzKKtm0XaXXnpp4UAi3FQyRCc8QO55W6EpjZcXA8mpqskuu+zi6WThXqtWL5TDeQ/OP6EsyydxuydNmpSlquoIASEgBAqFwGqrrebHY6uHFeMaNmyYD5l86623OgyHcXn55Zedraa79dZbL17s3nnnHb8dlPSynQXckKKd8aIss8wyzpaUvTJJmL9WJqwgJB181zRBOSAd6frrr+/efPNNt+eeezq4TUceeWRa9aaUbbXVVo5ZK5b1ogjXhzBs8NmzTBaKMu6ijKNR9xyK6AMPPFA4h5Wrr766zAN+ypQpjod6fMLKtcCqbZSSqpeFlwArP0zEp02bVrVe2EEcbpIt4O+RR4jb/a1vfatwOFY7B6z8kp6JQODc9syz01k1A4Gw4s4qc1KI4oS/19tvv+2zQob9d999t4/qxKohfmhxeeSRR/xmNb0oXrcI36Vo57gKOCMutNBCDmJ+mnNgjq78zI2XERFEsHIF4YUf36acAO7JGy3UR9HmBYzDH5Eezj//fL8UjpNWqwQlm/E988wzrTpk3eMwFiLGbL755nXrtqMCllJoLYyxVYK1oNX3HJMcrA+TJ09u+mlyfiw/8sCuJySdigu/I2SzzTbzn/F/aamA4/uZaLKMGR7+8X3J78ECw0Qmq4Adijw0rbCUmrVtO+rhOM6zCPnss88yDYFnXvK3wMrc9OnTK8ozdahKTUOA9x/vnDfeeKNpx1DHPQsBnON5F9x///2pJ4ZDOZkjCZ1M5mZ0rb333tudccYZqbRUMnRD6YOe2BFSwTBXQU0EjCbhyfnG165Zr9pOszpHloI0Ml5RZC9N3xek/oMOOigy+oV3OrQoHmXNjTYS3XzzzWVlbNiLyDsq4qyIQ4HFn/R17MVc5pz461//OrL4lGV/a621VmSzyLIy6owZM6biOGeffXZVZ8hQGTx+/OMfh822f9qEw2P7hz/8oe1jCQOwGXpkSpl3rLWHQ8R1n3nmmSOjK0T2YImMyxyqNvSzHfdcOAGLOuKvg018QlFDP3FYNApIZKs4kXm0ezz5XZkHu3cQxokmi7PMwQcf7Mdpk4Lc47MMZb6t+QJkamurY945CIfLLHLBBRf4/rmn02T11Vf3DtuLLbaYv7dw3OY7TtwWLiutSdPKcKBedNFFI5vsRB9//HG04IILRjyP6gnPVfPzKFWzpWLv6MTvBCfVIonF7o2MDuXHaxa6yCZZ3R4ez90iPavqnRBOxEYH8Ne4Xl3tFwIgYHRE/5uu9Z6bMWNGZCvj0fjx4yObeKcCZ9S7yAwlkWXpTt1fxEJZtHNOh4YOHepbjBs3Lnf8XLjUxN5l2RiLlt1Unl8NH5Z0ovayd+aVW8FTwlKXtPYwiMDP3nDDDX17lpdpby9Zv+QdTg0aRfIPaxF1k+VpYcxCP7U+ORdTGmtVaem+QGNJs1C2dCB2MKxyzNDNg9pbPeH5EzuUa0qMUJbVSAsP/efQQw+tuP7dGW+77rkwZsIvIc24N2zy6Z1siOc+11xzeWsJTjLg/dvf/tZbtwl/iSONPbjDkFI/sWjDxTblNHV/rUJ43azqPPXUU7WqlfZB7wIXrNRZ5Pe//73vn3soTQg/akqap6Rg/eYPCgxlhCdtlbCagHMp18WUbe/TAvbXXnttzSFARSBz3LbbbluqhwMt3E0E62lRhDwG3/nOd/z1gJZG2FB+v2lOXvXGzD3JteO5zfW68cYb6zUpzH6uM75LOJpLhEAWBLbeemufNI57B90jTQifzHsQPQlaXlJYIUNPIn+BGReTu4u7XUTtv8hjMh6nty7ZFY3sxZJrqJYwxbe1JZGKdqbwRnZz+f3GaS3bbxymiLZJwapg/GxvsTMKirfmYVFCjIOarF62vddee0WWvrSsrNpGFou2RW0olOUJi54pX9VOqaXl9mL21xVLa9qKAYPBmsc9xZ8l2GnY+Np9z2HF4JxMEWnYOdEROIYVIay2/H6SQtg+Qu9xfCyr/HbTBIsrdQ4//PC03ZnKzPvdhwtklame2NK7P14Wa7M5QPq6pojV6zYKq22cS9rzom4H3axgTscR93pcTJGMTCGtGf4Qiz0rbEkxLnvEap4ZGpK72rKNxRlsjaZXOj6rEtxbrEjmFVYaLRZ7dPvtt/t+hwwZkreLttZ/9tlnvYWST4kQyIoAK5CmdPuQqlnbUI8QrIQxNmOUX83P07bddWXRtidnHsFyFQSrcB4JVjVTECqawQOtFiLPXkKez5tsBCcUb1zC2xDmBqshs0Csc8kA78m2ebaZRXKuWL/ThDCBtkzscBgtgsD3hKdLpJZ2C053o0eP9sNgBr7RRhulDsloN55bz05CSGa1jqZ2Fits9z1HilwcCsnk1ShhJcAUm5JjIL+bNB41YfvAFcFqeuyxx6YOITgmBoed1Ep1CnHowZqe5lWfbIoHvtE9HJFP6iX0wSqN2MQ42U2htjkPW8r1mWvjA9ttt9089rWSWrH6EDjdoa1RgvyKHdck7XkZ6rXyE2d4nrNwSIMQWYdVTizyYfUm7Kv3Cb/01FNP9c609eoWcT9OvWuvvba77rrrijg8jamgCODfhkU6PHezDjNEiuJ3GNfDsrZvZ73/rzW2cxS95Ngh3iMPZV76RDmICy8VlkxwuIwLzlY4RCYF6ggpSxFeRjgPoNiZBdqZRStZPfc2P4gtt9zSR10ISzosmyaVA5QplFriaRdBoEsgZmnKPRyUOJv95m5XrQHxz4PUigTDgwPP6yDQIRoh7b7nuDeIS91IMQtgKdQdSg8T0WoC3QJaCYIDTTxEHjQd7u+f/vSnPo42jjhsk9Y3r6CAISiIWQT6CBNCMpfWEhRtogoRvaXIAl2ESX54HoWx8tzgXC15kX+x8nKN//HShEaVnEgQnYDfoVnyQ1f+M41CV1ahSRtMonAwD9c5fhgMDCyFZ3GGjbfrCd/JmsrvUSIE8iDAMwHKVB7hGWj+bXmaFKduu03qnXZ8MiHa1fN/1Zaiq51TcNAL7fk0pdpnfGSfKYipTVkywbEJp6u44LiVXFa1qCWZllXyUEfix0z7zpJ1I+kOacfIU2aTEn99ksvY1foAQ7JS4YDFcjWOncbFrFY9czmOHaZAl+4XqAy1xOKIluraC71W1cz72nnPcd/imIfDWCPlpJNOKuGEQ289wWkr/OaML1yvepf228TZHyNJ+6rWmSmXvr5NTqtV8ZlbGbelia9aJ76jndQRnHyrnYutzvhzxQnULKBlfziwWrjU+Gn478bj9G2g2SA4EpvS7akk5uPgy1r5z1aG/HjSMp1C1+M6xZ0584wtOAx3GnWEc+R+59zrZRnOg4fqCoGehkB5jCv7xUiah8Bhhx3mbrrppjJaAI5bxIvkj2VEYvYmZ3pkrcPqxv649SDNcSuebKPWmRBmDKfJ7grLOYTsMZ5e5q5Y9ieMYR6BBmCcxkxNglUxC3UESxVJVexF4Ze+oeKAMTNnLLHdcabEmosja5CFF144fE39jK9kEBMdi2cyDF1qwxqF7bzncPrEItnolY54wpcs93scV6ynzRAoBEhWpzgsozj9jB071se/x7EsKThBIklrb7JeEbbBNWnNDuNaZ511fGx/8g/E6TvQzXCaDE6PoT6f0N9YkVp11VUdyYBIZnHVVVf5fli1w0JeTcjSabzvXCtTrCiRAZeY6Glik0ZfnPZ7DGWcT2+TgQMH+lPm+Un+BokQEAKVCEjRrsSkaSUs4xPv+vTTT/fJb5IUDAvP57lLKJVxHiADYpmbSCfmAFn2surqYH/yk590tWmpHS8WxsXydh6aBgosnNk8kjapqNY+UEeyKNp4QDNRIMoBSjZCohtenlyHakJ9FDhztqtWxXE9g9Bfmhd12M8ny+xBbEbvefHhJR7KwyfnCI+bOOHV6lC3XfccEzCUyDxc86znFMc10EICLmmfcVy7GlUnrd94WRhHHmULBRo6ApPvZPQGrj/lKPCd4F1PpJP4hCaODd9Rpi+//PKyZxfPDSYYyYkY9wGTKWgJ55xzjp8Ejxo1yvPwWT6u5ucQjkl8XSbPYJhVoN7V+i0H/nUaNzSUVfNhyTqG7tbL8kzKUifr75DxWhhNP+yQqa+756D2QqBHItDTTPTNPp/uUEfiYyM6gb1MfOxslk7xXLcbzP8dcMAB8aql77Qxnm9Uj4JQatDkL0Q9sbB0TT5K/u6JrwmWLOfXEigN1LMXd1k1IgnUiqcc2tWjdxAJJlxTPum3loQIHdSt17cp2L5vojpklVbec0TW4fzzSNZz4vcScM1CIxg8eHCpfrOoI5ZYIff1mDp1qo8URAzwpBBVhXO0RA/JXVW3s1BHbJWkrH1yu2xnxg1TzPxYoV9VE+rYpK8sYgdRlojdnxQLe1i6Xvvuu28FPS5ZvxXb5tDsx2SrjRWHM2dOvw9KU1ekEdSRLM+kLHUYf9bfYTjXvn37RlljyIc2+hQCvQkBOUPa26xVgjNccH7CCkLkAbzt8dqGZoAXN2Iv2dQh0YaIFLUsrakNm1SINZioAkUTe/D7IRHbu5aELFVQWeKCFbGWBR3nJ46Rttwf74frFO8nTnmI1wvfuQeChHshbCc/WbI1fmtZ/8k6bLfrnsPhF5zySNZzwmE4SD1MiZYTdzquh2voN+9noCvlia4Clcj8ATztKuns3GjaCL8FHJl55phy62N4YzEmdjX0jLiTaN5zDzHSoTpVk/nmm89Z+D8f35w6XDfoZkQfSAq0EYTxsTJCHG3jAvuydv0L1zXtmRKyX4Y67RhjlmdSljqMPevvMJwn9Lhaq2qhnj6FQG9FQNSRFl55qB9ENGBZMykoZBbH16cURYHqyUKqVbjpeQQ+OdFUskhQtOMUg7R2IWV8cuk6rW68jHTz0H7SQsrF66GAwJEOSUOYZAVKEJxWQu8RxB8lBCFpTRD4orUEChERTYhIUUs66Z7Lek5wfUlEA00Degp8f7i+LN0//PDDnm5BEicERY2lcIToPc3ikQYaWFhK9wfM8A/ve8aIYg2lDEFh5V6BjoVy3AiB10wa5Ndff91BG8MPBN4z9yiTDyb7pE7vivB745lVj58OfYSkTUQzIqSfOXmmThRRtKGhQOGCkgAVhMlwCJ1Icq9aEybuCXxd8grP30AfS7ZlMgINK+25NW3aNF+91piS/TV6O8szKUsdxpX1d0hdJrJMPuhbIgSEQDoCUrTTcWlaKSGgUH7SHuhBIbCl7qYdvwgdY1ULL6es48njuJlV0Sb2MSHf0iY2cOm5HhYJIHWI9ZTs0Ajnr9tuu809//zz3pnTlvf9dxRwXt683C2ds88SGWJeowQFhTz0k/ZZT8kObTrpnstyTjgH4+yG4oY1kex8wVGO9liX4dvecMMNzpbzPQwoSfFQiwGbRn12VdHGasu9AF85KNrEXceHgfJGWQoJi0f4SHjhrLSg6KJkY400ik8pBGJX8WCiU4+nS/hSfsdkQyQLYlomRJR1FOkQxgurP5OjsNqDZZvrWit2M214xtjSdObTgaNdi2MOz5/Qjyjx8Pzjv3/Ghv9FPA47cfyx2FdzEM08MKvIebD6Rvz1WgptfEzV+s9Sh7ZZfofUw2kbsehC/lP/hIAQSEGgN/FkGnGu3eFom/e95/LZQyw65ZRTIrOo+ox2cPTMouUzyxltIXrjjTcaMdRe24dZsn3WwDTuaxwUsyT663HFFVeUiuExw3u2tNrRq6++Wirvzheupy3H+mNxfW0i4DPC0acpiZ6na7SgyJSqyJStqBG82TDennzPnXvuuT4zqj3WIlP0IrKTElLQrI4+Kyi/M/aBvSlDAZKmfFoEEX8sUzxy929KpW9LCDkEXjLjrpZFNHkAMvPZ5D0ixB7t+MPPg7L4eXNv2+pJZBGMSl2E0HuWUKZU1pUvZnGOBg0aVLepTXb8+EzZTw1DGvwrjCJX6oswnaFvsk/aqkVpXyu/WDQiP3ae1UG43jZRrwgHit8H18GcOUPVqp8TJkzwdW1ykMpHDyH0uL8tXnfVftqxw4wIfux5Q922Y6w6phBoFwLMliU5EOiOom1cw8isHpFZMKNVVlnFP6DCi9GsSz69qB5YOS5GjarGR8yUgv3666/3iq9ZFiMUHrMyeydKlLVGCsoz150Y3WY589fe6EKlNOLcB8TRDkJMXrP6h80uf/b0e46Y6SiVxMpmooLSY/SN0m+L62nWXI8fcehxXGuGGL3BHzstFXy944X46cSOtugW/n5EESW+exaxUJ2RWVx9O+MJR/wxmaOMCUAQYh1znxk1IxT5e5370Ky0kUUFKZXn/XLXXXd5/Bl/LcEB1KyqkYUqTa2GIs6z8JVXXintR/nmfIgzTfz/dgoTYRReS27kHdltVSyyzJCR0SfKhkVqdepZeNCy8viG0cOiFVdc0TvCU5c/8/uIuJ4o30F4DpiV3sfkf/rpp0NxIT5xgrSEUYUYiwYhBIqKgBTtnFemO4q2ORyVWSTwxCfyCJZtWwLPORJVr4WAhUTzSoUt4daq5vehiKGEdcUaWbfzKhUYl9FT/PW3cId+rChXxx13nFcoUIgstX2V1tmLe9M9x3XEumsh8yKLpVxSti0knMeVCY7RTbKDl7Emx0XBN154xhbl1fjto2RhlbeQfn7crHQ0WogSZBSHsmcNiiLJmYza5C3iXT0m52AhDiOjdNTtAgttNYWc1ai0qEoom0UxQjBZMGffiEl6rdVHkodhgW+UWMr2KCTwaVSf3emHSSX3LEmxJEJACFRHQIp2dWxS93RH0U7tUIVNQSBkD+SlXnQxzmlJKQwrHFi1JN1DwHjaFbg2IxylceD9cczJt8sDtugbvg+L/e4/mfg1WrD8W5SRsm6hsGH1h+rAs607wiSxHl2rO/13WluU8a5mi0yeK6sbWI6LRB1hUshKQ61QqMnz0LYQ6I0IKLyfaTaSnocAiVwQ454W/uRIwpHMcFjEsImFBzIxQEIbxqVfv37eoS1e1ojvxhn23WRxYK12PKKPIDhV4iRLiLVGC9E+7rjjjrJuccDE+RKH2eWXX75sX94NMtfi5IyzYm8XnDpxvsVhtxFCWFeeaVmdFBtxzFp9cH5E/uH+iYcwrdVG+4RAb0VAinZvvfI9/LxJnU5mSEKnFV2IenL33Xf78HMoWGZldOawVvRhF358RolwI0aM8Ior2RW5F/KG38tykkHRJqV6V4V42kFhaVbKdeI8pylqRAwJ2Q27On7aGf3Fh+Q75phjnHGMu9NVx7dlskEYRSKgdFfMiu3jiKPUFkHMIulDRZqF3XGtJUJACNRGoA9m/NpVtDeOgDnpOMLCIRMnTnQWnSK+W98LhACxdy0ToLeyZUnHXqChaygdggDhBbGUE64Tq3B3hDCFWJ1JHtO/f//udNXWtsaP96nTsZRLeh4ChKIcNWqUIzY7YQ0lQkAI1EZAFu3a+FTsjcdaJfmDpLgIkBiIOMEhy15xR6qRdSoCFhHDYXE0R7VunwJUAxKidLKSDQhY56Vkd/t2KGwH0JyIgS4lu7CXSAMrGAKyaHfhgpijmiNl8lFHHeUuvvjiLvSgJq1AACWb5U0yRJqjV0OWx1sxbh2jMxBgMZBsgCQnmTx5shSPzrhsGqUQEAJCoKUIyKLdBbj33ntv38oSGHhrVhe6UJMWIADv1BJG+Mx3SSewFhxeh+jhCHBPWbg1n31S1r0efrF1ekJACAiBLiIgi3YXgMNCaokGvCULp7XTTjutC72oSasQwFsfL3lL9iCrdqtA7wXHsWyF7uOPP3YvvvhiqpNhL4BApygEhIAQEAJ1EJBFuw5AabstjbZ3BLEMZ+7ss8/2jiFp9VRWDAQsVbezxECi+RTjcvSIUeAIZpkW/T2VFsmjR5ykTkIICAEhIAS6jYAU7S5CuPXWWzvLDEbCH2fZv7zi3cWu1KzJCKy99to+3qslsfHKUZMPp+57OAKsjBxxxBHOEtS47bbbroefrU5PCAgBISAEuoOAqCPdQc/a8tK1rG5++fiss87ycXu72aWaNwkBuPXjxo1zlvq8IfFtmzRMdVtgBEjIss466zgcool9PssssxR4tBqaEBACQkAItBsBKdoNuAKE9yJBwYABA9zGG2/cgB7VRTMQ+Oqrr9y+++7rnSPHjx/fjEOozx6OwJAhQxz30Z133ulINCQRAkJACAgBIVALASnatdDRvh6HACH/pkyZ4hZffPEed246oeYj8M477/gMjn369Gn+wXQEISAEhIAQ6HgEpGh3/CXUCQgBISAEhIAQEAJCQAgUEQE5QxbxqmhMQkAICAEhIASEgBAQAh2PgBTtjr+EOgEhIASEgBAQAkJACAiBIiIgRbuIV0VjEgJCQAgIASEgBISAEOh4BKRod/wl1AkIASEgBISAEBACQkAIFBEBKdpFvCoakxAQAkJACAgBISAEhEDHI/D/AJpWp6Q81AX6AAAAAElFTkSuQmCC)\n"
      ]
    },
    {
      "cell_type": "code",
      "metadata": {
        "id": "VtAPgeN0pSYS"
      },
      "source": [
        "def create_zero_adjmtx(pr):\n",
        "  adjmtx = list()\n",
        "  for i in range(len(pr)):\n",
        "    adjmtx.append(list())\n",
        "    for j in range(len(pr[i])):\n",
        "      row = [0 for k in range(len(pr[i]))]\n",
        "      adjmtx[i].append(row)\n",
        "    adjmtx[i] = np.array(adjmtx[i], dtype = 'float32' )\n",
        "  return adjmtx"
      ],
      "execution_count": 981,
      "outputs": []
    },
    {
      "cell_type": "code",
      "metadata": {
        "id": "qSIYFb_zwkVD"
      },
      "source": [
        "def identity_mtx(n):\n",
        "  result = list()\n",
        "  for i in range(n):\n",
        "    result.append(list())\n",
        "    for j in range(n):\n",
        "      if i == j:\n",
        "        result[i].append(1)\n",
        "        continue\n",
        "      result[i].append(0)\n",
        "  return np.array(result , dtype = 'float32')"
      ],
      "execution_count": 982,
      "outputs": []
    },
    {
      "cell_type": "code",
      "metadata": {
        "id": "KonJ0ZCquwZZ"
      },
      "source": [
        "adjmtx = create_zero_adjmtx(pr[0:5])"
      ],
      "execution_count": 983,
      "outputs": []
    },
    {
      "cell_type": "code",
      "metadata": {
        "id": "w7L4PptRvOv6"
      },
      "source": [
        "def create_adjmtx(all_graph, adjmtx):\n",
        "  for i in range(len(all_graph)):\n",
        "    for edge in all_graph[i]:\n",
        "      adjmtx[i][edge[0] - 1][edge[1] - 1] = 1.0\n",
        "  return adjmtx"
      ],
      "execution_count": 984,
      "outputs": []
    },
    {
      "cell_type": "code",
      "metadata": {
        "id": "l9m617IAZqU-"
      },
      "source": [
        "def normalize_mtx(adjmtx):\n",
        "  for i in range(len(adjmtx)):\n",
        "    for j in range(len(adjmtx[i])):\n",
        "      sums = sum(adjmtx[i][j])\n",
        "      if sums != 0:\n",
        "        for k in range(len(adjmtx[i][j])):\n",
        "          adjmtx[i][j][k] = adjmtx[i][j][k] / sums\n",
        "  return adjmtx"
      ],
      "execution_count": 985,
      "outputs": []
    },
    {
      "cell_type": "code",
      "metadata": {
        "id": "IDmPvGOKwR4z"
      },
      "source": [
        "adjmtx = create_adjmtx(all_graph[0:5] ,adjmtx)\n",
        "for i in range(len(adjmtx)):\n",
        "  adjmtx[i] = adjmtx[i].transpose()\n",
        "adjmtx = normalize_mtx(adjmtx)"
      ],
      "execution_count": 986,
      "outputs": []
    },
    {
      "cell_type": "code",
      "metadata": {
        "id": "xD0Ja8j-Q1N2"
      },
      "source": [
        "def calculate_sim(adjmtx, S, C = 0.5):\n",
        "  return C * ( np.matmul( np.matmul(adjmtx , S) , adjmtx.transpose()) ) + (1-C) * identity_mtx(len(adjmtx))"
      ],
      "execution_count": 987,
      "outputs": []
    },
    {
      "cell_type": "code",
      "metadata": {
        "id": "JApf_7F6VndN"
      },
      "source": [
        "def calculate_allsim(adjmtx, S):\n",
        "  result = list()\n",
        "  for i in range(len(adjmtx)):\n",
        "    result.append(calculate_sim(adjmtx[i], S[i]))\n",
        "  return result"
      ],
      "execution_count": 988,
      "outputs": []
    },
    {
      "cell_type": "code",
      "metadata": {
        "id": "zIAtjT5XSco1"
      },
      "source": [
        "new_S = list()\n",
        "for graph in adjmtx:\n",
        "  S = identity_mtx( len(graph))\n",
        "  new_S.append(calculate_sim(graph, S))\n",
        "# for i in range(3):\n",
        "#   S = new_S\n",
        "#   new_S = calculate_allsim(adjmtx, new_S)"
      ],
      "execution_count": 989,
      "outputs": []
    },
    {
      "cell_type": "code",
      "metadata": {
        "colab": {
          "base_uri": "https://localhost:8080/"
        },
        "id": "4QeCLuUwOkyo",
        "outputId": "8cb987f6-c5f1-4fa5-d74a-986cd3504fe1"
      },
      "source": [
        "new_S[0]"
      ],
      "execution_count": 990,
      "outputs": [
        {
          "output_type": "execute_result",
          "data": {
            "text/plain": [
              "array([[0.75, 0.  , 0.25, 0.  , 0.25, 0.  ],\n",
              "       [0.  , 1.  , 0.  , 0.  , 0.  , 0.  ],\n",
              "       [0.25, 0.  , 1.  , 0.  , 0.  , 0.  ],\n",
              "       [0.  , 0.  , 0.  , 1.  , 0.  , 0.  ],\n",
              "       [0.25, 0.  , 0.  , 0.  , 1.  , 0.  ],\n",
              "       [0.  , 0.  , 0.  , 0.  , 0.  , 1.  ]], dtype=float32)"
            ]
          },
          "metadata": {
            "tags": []
          },
          "execution_count": 990
        }
      ]
    },
    {
      "cell_type": "markdown",
      "metadata": {
        "id": "V0J96ihfGfWI"
      },
      "source": [
        "## write"
      ]
    },
    {
      "cell_type": "code",
      "metadata": {
        "id": "WiBINO3sNZyU"
      },
      "source": [
        "for i in range(len(new_S)):\n",
        "\n",
        "  f = open('graph_'+str(i+1)+'_SimRank.txt','w')\n",
        "  new_S[i] = list(new_S[i])\n",
        "  for j in range(len(new_S[i])):\n",
        "    temp = new_S[i][j]\n",
        "    for k in range(len(temp)):\n",
        "      if k < len(temp) - 1:\n",
        "        f.write(str(temp[k])+' ')\n",
        "      else:\n",
        "        f.write(str(temp[k])+'\\n')\n",
        "  f.close()"
      ],
      "execution_count": 991,
      "outputs": []
    },
    {
      "cell_type": "markdown",
      "metadata": {
        "id": "uSfoHYX87nvB"
      },
      "source": [
        "# 雜事"
      ]
    },
    {
      "cell_type": "code",
      "metadata": {
        "id": "kOpEBWvK7t2y"
      },
      "source": [
        "# g7 = list()\n",
        "# fp = open('graph_7.txt', 'r')\n",
        "# line = fp.readline()\n",
        "# while line:\n",
        "#   temp = line.replace('\\n','')\n",
        "#   temp = temp.replace('      ',',')\n",
        "#   g7.append(eval(temp)[1:3])\n",
        "#   line = fp.readline()\n",
        "# fp.close()"
      ],
      "execution_count": 992,
      "outputs": []
    },
    {
      "cell_type": "code",
      "metadata": {
        "id": "xyfK74TI8NiE"
      },
      "source": [
        "# g7_f = [[] for i in range(1,829)]\n",
        "\n",
        "# for i in range(len(g7)):\n",
        "#   g7_f[g7[i][0] - 1].append(g7[i][1])\n",
        "  "
      ],
      "execution_count": 993,
      "outputs": []
    },
    {
      "cell_type": "code",
      "metadata": {
        "id": "NUbsIjie90MH"
      },
      "source": [
        "# import random\n",
        "# g7 = list()\n",
        "# for i in range(len(g7_f)):\n",
        "#   for j in range(len(g7_f[i])):\n",
        "#     temp = g7_f[i][j],random.choice(g7_f[i][:j] + g7_f[i][j+1:])\n",
        "#     g7.append(temp)"
      ],
      "execution_count": 994,
      "outputs": []
    },
    {
      "cell_type": "code",
      "metadata": {
        "id": "PDKe09JkBf5A"
      },
      "source": [
        "# f = open('graph_7.txt','w')\n",
        "# for i in range(len(g7)):\n",
        "#   f.write(str(g7[i][0])+','+str(g7[i][1])+'\\n')\n",
        "# f.close()"
      ],
      "execution_count": 995,
      "outputs": []
    },
    {
      "cell_type": "code",
      "metadata": {
        "id": "g_AUftdfAsQe"
      },
      "source": [
        "# for a in lisa:\n",
        "#   del g7_f[a]"
      ],
      "execution_count": 996,
      "outputs": []
    },
    {
      "cell_type": "code",
      "metadata": {
        "id": "lQGtHFP3_UaJ"
      },
      "source": [
        "# lisa = list()\n",
        "# for i in range(len(g7_f)-1,-1,-1):\n",
        "#   if len(g7_f[i]) == 1:\n",
        "#     lisa.append(i)"
      ],
      "execution_count": 997,
      "outputs": []
    },
    {
      "cell_type": "markdown",
      "metadata": {
        "id": "SMWfMedBJI1g"
      },
      "source": [
        "# Result Graph"
      ]
    },
    {
      "cell_type": "code",
      "metadata": {
        "colab": {
          "base_uri": "https://localhost:8080/"
        },
        "id": "05meg76MGi9z",
        "outputId": "be041da3-a250-4eb7-c5fc-75662d3089d5"
      },
      "source": [
        "!apt install libgraphviz-dev\n",
        "!pip install pygraphviz"
      ],
      "execution_count": 998,
      "outputs": [
        {
          "output_type": "stream",
          "text": [
            "Reading package lists... Done\n",
            "Building dependency tree       \n",
            "Reading state information... Done\n",
            "libgraphviz-dev is already the newest version (2.40.1-2).\n",
            "0 upgraded, 0 newly installed, 0 to remove and 16 not upgraded.\n",
            "Requirement already satisfied: pygraphviz in /usr/local/lib/python3.6/dist-packages (1.6)\n"
          ],
          "name": "stdout"
        }
      ]
    },
    {
      "cell_type": "code",
      "metadata": {
        "id": "e75fJstmJU3z"
      },
      "source": [
        "import pygraphviz as pgv"
      ],
      "execution_count": 999,
      "outputs": []
    },
    {
      "cell_type": "code",
      "metadata": {
        "id": "r0phIa7dKKaf"
      },
      "source": [
        "G  = pgv.AGraph(directed=True)"
      ],
      "execution_count": 1000,
      "outputs": []
    },
    {
      "cell_type": "code",
      "metadata": {
        "id": "5-Q47s3tMCwo"
      },
      "source": [
        "for node in pr[0]:\n",
        "  G.add_node(str(node))"
      ],
      "execution_count": 1001,
      "outputs": []
    },
    {
      "cell_type": "code",
      "metadata": {
        "id": "d7R_6W9lMgur"
      },
      "source": [
        "for edge in all_graph[0]:\n",
        "  G.add_edge(str(edge[0]),str(edge[1]))"
      ],
      "execution_count": 1002,
      "outputs": []
    },
    {
      "cell_type": "code",
      "metadata": {
        "id": "IXmPg0ZYPxB4"
      },
      "source": [
        "G.node_attr.update(color = 'black',shape = 'cube')"
      ],
      "execution_count": 1003,
      "outputs": []
    },
    {
      "cell_type": "code",
      "metadata": {
        "colab": {
          "base_uri": "https://localhost:8080/"
        },
        "id": "VrhUu7dnMrQF",
        "outputId": "1edb1328-7183-48af-9f44-6848b298a78d"
      },
      "source": [
        "G.layout()\n",
        "G.draw('g.png')\n"
      ],
      "execution_count": 1004,
      "outputs": [
        {
          "output_type": "stream",
          "text": [
            "/usr/local/lib/python3.6/dist-packages/pygraphviz/agraph.py:1390: RuntimeWarning: Warning: using box for unknown shape cube\n",
            "\n",
            "  warnings.warn(b\"\".join(errors).decode(self.encoding), RuntimeWarning)\n"
          ],
          "name": "stderr"
        }
      ]
    },
    {
      "cell_type": "code",
      "metadata": {
        "colab": {
          "base_uri": "https://localhost:8080/",
          "height": 1000
        },
        "id": "YzR9sxpkoHrH",
        "outputId": "6955e0fc-4576-4f3a-e63c-866b9366b342"
      },
      "source": [
        "for i in range(len(new_hits)):\n",
        "  ax = plt.figure().gca()\n",
        "  x = np.arange(1,len(new_pr[i])+1,1)\n",
        "  \n",
        "  bar_width = 0.2\n",
        "  opacity = 0.4\n",
        "\n",
        "  ax.bar(x, new_hits[i][0].values(), bar_width, label='hub')\n",
        "  ax.bar(x + bar_width, new_hits[i][1].values(), bar_width, alpha=opacity, label='authority')\n",
        "  ax.bar(x + bar_width*2, new_pr[i].values() , bar_width, alpha=opacity, label='PageRank')\n",
        "  ax.set_xlabel('Node')\n",
        "  ax.set_ylabel('Values')\n",
        "  ax.xaxis.set_major_locator(MaxNLocator(integer=True))\n",
        "  legends = ['hub', 'authority', 'PageRank']\n",
        "  ax.legend(legends, loc=2)\n",
        "  ax.set_title(\"graph\" + str(i + 1))\n",
        "  plt.show()\n"
      ],
      "execution_count": 1005,
      "outputs": [
        {
          "output_type": "display_data",
          "data": {
            "image/png": "[encoded data removed]",
            "text/plain": [
              "<Figure size 432x288 with 1 Axes>"
            ]
          },
          "metadata": {
            "tags": [],
            "needs_background": "light"
          }
        },
        {
          "output_type": "display_data",
          "data": {
            "image/png": "[encoded data removed]",
            "text/plain": [
              "<Figure size 432x288 with 1 Axes>"
            ]
          },
          "metadata": {
            "tags": [],
            "needs_background": "light"
          }
        },
        {
          "output_type": "display_data",
          "data": {
            "image/png": "[encoded data removed]",
            "text/plain": [
              "<Figure size 432x288 with 1 Axes>"
            ]
          },
          "metadata": {
            "tags": [],
            "needs_background": "light"
          }
        },
        {
          "output_type": "display_data",
          "data": {
            "image/png": "[encoded data removed]",
            "text/plain": [
              "<Figure size 432x288 with 1 Axes>"
            ]
          },
          "metadata": {
            "tags": [],
            "needs_background": "light"
          }
        },
        {
          "output_type": "display_data",
          "data": {
            "image/png": "[encoded data removed]",
            "text/plain": [
              "<Figure size 432x288 with 1 Axes>"
            ]
          },
          "metadata": {
            "tags": [],
            "needs_background": "light"
          }
        },
        {
          "output_type": "display_data",
          "data": {
            "image/png": "[encoded data removed]",
            "text/plain": [
              "<Figure size 432x288 with 1 Axes>"
            ]
          },
          "metadata": {
            "tags": [],
            "needs_background": "light"
          }
        },
        {
          "output_type": "display_data",
          "data": {
            "image/png": "[encoded data removed]",
            "text/plain": [
              "<Figure size 432x288 with 1 Axes>"
            ]
          },
          "metadata": {
            "tags": [],
            "needs_background": "light"
          }
        }
      ]
    }
  ]
}