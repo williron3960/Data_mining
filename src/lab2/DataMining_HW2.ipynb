{
  "nbformat": 4,
  "nbformat_minor": 0,
  "metadata": {
    "colab": {
      "name": "DataMining_HW2.ipynb",
      "provenance": [],
      "collapsed_sections": [
        "aNUpgwWH12ei",
        "Dsy0ukh2zOcz"
      ],
      "history_visible": true
    },
    "kernelspec": {
      "name": "python3",
      "display_name": "Python 3"
    }
  },
  "cells": [
    {
      "cell_type": "markdown",
      "metadata": {
        "id": "aNUpgwWH12ei"
      },
      "source": [
        "# Pretreatment"
      ]
    },
    {
      "cell_type": "markdown",
      "metadata": {
        "id": "TAgrQXW2UZNt"
      },
      "source": [
        "##  Dataset\n"
      ]
    },
    {
      "cell_type": "code",
      "metadata": {
        "id": "22UPBEffUjTt"
      },
      "source": [
        "import numpy as np\n",
        "import pandas as pd\n",
        "import random\n",
        "from sklearn import tree\n",
        "\n",
        "from sklearn.preprocessing import LabelEncoder"
      ],
      "execution_count": null,
      "outputs": []
    },
    {
      "cell_type": "markdown",
      "metadata": {
        "id": "SjEq4YZiYb43"
      },
      "source": [
        "**Create Dataset**\n",
        "\n",
        "This Dataset is about clothes with 11 features.\n",
        "\n",
        "The following are mean of the these feature：\n",
        "\n",
        "\n",
        "\n",
        "1.   TID\n",
        "2.   Price\n",
        "3.   Sex\n",
        "4.   Categroy\n",
        "5.   Color\n",
        "6.   Size\n",
        "\n",
        "7.   Brand\n",
        "8.   Material\n",
        "9.   Origin\n",
        "10.  Sales channel\n",
        "11.  Season\n",
        "12.  s/n\n",
        "\n"
      ]
    },
    {
      "cell_type": "code",
      "metadata": {
        "id": "3DA7Xe95lJ7-"
      },
      "source": [
        "data_num=1000"
      ],
      "execution_count": null,
      "outputs": []
    },
    {
      "cell_type": "code",
      "metadata": {
        "id": "KqrgK0fJU1JE"
      },
      "source": [
        "# Define column name\n",
        "colunms_name=['TID','Sex','Price','Category','Color','Size','Brand','Material','Origin','Sales_channel','Season']\n",
        "colunms_name_list=[colunms_name[i]+'_data_list' for i in range(1,len(colunms_name))]\n",
        "colunms_list=[colunms_name[i]+'_list' for i in range(1,len(colunms_name))]"
      ],
      "execution_count": null,
      "outputs": []
    },
    {
      "cell_type": "code",
      "metadata": {
        "id": "yabKHMjDf9M6"
      },
      "source": [
        "# Create Freature content\n",
        "TID_list=[i for i in range(data_num)]\n",
        "\n",
        "Price_list=[i*100 for i in range(1,21)]\n",
        "\n",
        "Sex_list=['male','female']\n",
        "\n",
        "Category_list=['shoes','pants','jack','shirt','suit','vest','coat','sweater','garter','louse','uniforms','dress']\n",
        "\n",
        "Color_list=['black','white','yellow','red','orange','green','blue','purple','pink','Brown']\n",
        "\n",
        "Size_list=['XSS','XS','S','M','L','XL','XXL','XXXL']\n",
        "\n",
        "Brand_list=['Unique','NET','H&M','Zara','GAP','GU','Adidas','NIKE']\n",
        "\n",
        "Material_list=['cotton','polyester','nylon','acrylic','linen','silk','rayon'\n",
        ",'acetate','spandex','lycra']\n",
        "\n",
        "Origin_list=['America','Taiwan','China','Canada','Japan','Europe','Korea']\n",
        "\n",
        "Sales_channel_list=['Internet','shopee','amazon','Adidas','Storefront']\n",
        "\n",
        "Season_list=['spring','summer','winter','fall']"
      ],
      "execution_count": null,
      "outputs": []
    },
    {
      "cell_type": "code",
      "metadata": {
        "id": "zJGQyS3jaxTG"
      },
      "source": [
        "def get_random_data(list,data_num):\n",
        "  list_data=[random.choice(list) for i in range(data_num)]\n",
        "  return list_data"
      ],
      "execution_count": null,
      "outputs": []
    },
    {
      "cell_type": "code",
      "metadata": {
        "id": "fObDp33vqH91"
      },
      "source": [
        "for i in range(len(colunms_name_list)):\n",
        "  locals()[colunms_name_list[i]]=get_random_data(eval(colunms_list[i]),data_num)"
      ],
      "execution_count": null,
      "outputs": []
    },
    {
      "cell_type": "code",
      "metadata": {
        "id": "k-jDIG4GBdD8"
      },
      "source": [
        "data={colunms_name[i]:eval(colunms_name_list[i-1]) for i in range(1,len(colunms_name))}\n",
        "df=pd.DataFrame(data)\n",
        "df['TID']=TID_list\n",
        "df=df[colunms_name]\n"
      ],
      "execution_count": null,
      "outputs": []
    },
    {
      "cell_type": "code",
      "metadata": {
        "id": "qujaJogHBDCQ"
      },
      "source": [
        "df.to_csv('clothes.csv',index=False,header=True)"
      ],
      "execution_count": null,
      "outputs": []
    },
    {
      "cell_type": "code",
      "metadata": {
        "id": "2qEB_-Kq8cPs"
      },
      "source": [
        "le = LabelEncoder()      \n",
        "for i in range(2,len(colunms_name)):\n",
        "  le.fit(df[colunms_name[i]])                         \n",
        "  df[colunms_name[i]]= le.transform(df[colunms_name[i]])  "
      ],
      "execution_count": null,
      "outputs": []
    },
    {
      "cell_type": "code",
      "metadata": {
        "id": "SwarOcIXQIdq"
      },
      "source": [
        "df.to_csv('clothes_num.csv',index=False,header=True)"
      ],
      "execution_count": null,
      "outputs": []
    },
    {
      "cell_type": "code",
      "metadata": {
        "id": "XFNsE28HQCEZ"
      },
      "source": [
        "data={colunms_name[i]:eval(colunms_name_list[i-1]) for i in range(1,len(colunms_name))}\n",
        "df=pd.DataFrame(data)\n",
        "df['TID']=TID_list\n",
        "df=df[colunms_name]"
      ],
      "execution_count": null,
      "outputs": []
    },
    {
      "cell_type": "markdown",
      "metadata": {
        "id": "61INpI8NI-jy"
      },
      "source": [
        "## Rule"
      ]
    },
    {
      "cell_type": "code",
      "metadata": {
        "id": "n_N8DmvGqQ1Z"
      },
      "source": [
        "Rule_list_fem=[[],\n",
        "           [i*100 for i in range(1,4)],['dress'],\n",
        "           [],\n",
        "           ['S'],\n",
        "           ['Zara'],\n",
        "           ['rayon'],\n",
        "           ['Korea'],\n",
        "           [],\n",
        "           []\n",
        "           ]\n",
        "\n",
        "Rule_list_m=[[],\n",
        "           [i*100 for i in range(1,3)],['pants','vest'],\n",
        "           ['white'],\n",
        "           ['L'],\n",
        "           ['Unique'],\n",
        "           [],\n",
        "           ['Taiwan'],\n",
        "           [],\n",
        "           []\n",
        "           ]"
      ],
      "execution_count": null,
      "outputs": []
    },
    {
      "cell_type": "code",
      "metadata": {
        "colab": {
          "base_uri": "https://localhost:8080/"
        },
        "id": "g2kQOxgFRC67",
        "outputId": "294081f9-0ae4-49fd-f5ba-50da6c041e04"
      },
      "source": [
        "df['s/n']=np.nan\n",
        "for i in range(len(df)):\n",
        "  stu=0\n",
        "  if df['Sex'][i]=='male':\n",
        "    for j in range(1,len(colunms_name)):\n",
        "        # if j==len(colunms_name)-3:\n",
        "        #   if df[colunms_name[j]][i] == random.choice(Origin_data_list):\n",
        "        #     df['s/n'][i]='sell'\n",
        "        #     stu=1\n",
        "        if df[colunms_name[j]][i] in Rule_list_m[j-1]:\n",
        "          df['s/n'][i]='sell'\n",
        "          stu=1\n",
        "    if stu==0:\n",
        "      df['s/n'][i]='fail'\n",
        "\n",
        "  if df['Sex'][i]=='female':\n",
        "    for j in range(1,len(colunms_name)):\n",
        "        # if j==len(colunms_name)-3:\n",
        "        #   if df[colunms_name[j]][i] == random.choice(Origin_data_list):\n",
        "        #     stu=1\n",
        "        #     df['s/n'][i]='sell'\n",
        "\n",
        "        if df[colunms_name[j]][i] in Rule_list_fem[j-1]:\n",
        "          df['s/n'][i]='sell'\n",
        "          stu=1\n",
        "    if stu==0:\n",
        "      df['s/n'][i]='fail'"
      ],
      "execution_count": null,
      "outputs": [
        {
          "output_type": "stream",
          "text": [
            "/usr/local/lib/python3.6/dist-packages/ipykernel_launcher.py:24: SettingWithCopyWarning: \n",
            "A value is trying to be set on a copy of a slice from a DataFrame\n",
            "\n",
            "See the caveats in the documentation: https://pandas.pydata.org/pandas-docs/stable/user_guide/indexing.html#returning-a-view-versus-a-copy\n",
            "/usr/local/lib/python3.6/dist-packages/pandas/core/indexing.py:670: SettingWithCopyWarning: \n",
            "A value is trying to be set on a copy of a slice from a DataFrame\n",
            "\n",
            "See the caveats in the documentation: https://pandas.pydata.org/pandas-docs/stable/user_guide/indexing.html#returning-a-view-versus-a-copy\n",
            "  iloc._setitem_with_indexer(indexer, value)\n",
            "/usr/local/lib/python3.6/dist-packages/ipykernel_launcher.py:27: SettingWithCopyWarning: \n",
            "A value is trying to be set on a copy of a slice from a DataFrame\n",
            "\n",
            "See the caveats in the documentation: https://pandas.pydata.org/pandas-docs/stable/user_guide/indexing.html#returning-a-view-versus-a-copy\n",
            "/usr/local/lib/python3.6/dist-packages/ipykernel_launcher.py:14: SettingWithCopyWarning: \n",
            "A value is trying to be set on a copy of a slice from a DataFrame\n",
            "\n",
            "See the caveats in the documentation: https://pandas.pydata.org/pandas-docs/stable/user_guide/indexing.html#returning-a-view-versus-a-copy\n",
            "  \n",
            "/usr/local/lib/python3.6/dist-packages/ipykernel_launcher.py:11: SettingWithCopyWarning: \n",
            "A value is trying to be set on a copy of a slice from a DataFrame\n",
            "\n",
            "See the caveats in the documentation: https://pandas.pydata.org/pandas-docs/stable/user_guide/indexing.html#returning-a-view-versus-a-copy\n",
            "  # This is added back by InteractiveShellApp.init_path()\n"
          ],
          "name": "stderr"
        }
      ]
    },
    {
      "cell_type": "code",
      "metadata": {
        "colab": {
          "base_uri": "https://localhost:8080/",
          "height": 162
        },
        "id": "4K-n07e8-MpK",
        "outputId": "e263df62-f1f4-4ff5-a1d4-594de666ebbf"
      },
      "source": [
        "df.groupby(['s/n']).count()"
      ],
      "execution_count": null,
      "outputs": [
        {
          "output_type": "execute_result",
          "data": {
            "text/html": [
              "<div>\n",
              "<style scoped>\n",
              "    .dataframe tbody tr th:only-of-type {\n",
              "        vertical-align: middle;\n",
              "    }\n",
              "\n",
              "    .dataframe tbody tr th {\n",
              "        vertical-align: top;\n",
              "    }\n",
              "\n",
              "    .dataframe thead th {\n",
              "        text-align: right;\n",
              "    }\n",
              "</style>\n",
              "<table border=\"1\" class=\"dataframe\">\n",
              "  <thead>\n",
              "    <tr style=\"text-align: right;\">\n",
              "      <th></th>\n",
              "      <th>TID</th>\n",
              "      <th>Sex</th>\n",
              "      <th>Price</th>\n",
              "      <th>Category</th>\n",
              "      <th>Color</th>\n",
              "      <th>Size</th>\n",
              "      <th>Brand</th>\n",
              "      <th>Material</th>\n",
              "      <th>Origin</th>\n",
              "      <th>Sales_channel</th>\n",
              "      <th>Season</th>\n",
              "    </tr>\n",
              "    <tr>\n",
              "      <th>s/n</th>\n",
              "      <th></th>\n",
              "      <th></th>\n",
              "      <th></th>\n",
              "      <th></th>\n",
              "      <th></th>\n",
              "      <th></th>\n",
              "      <th></th>\n",
              "      <th></th>\n",
              "      <th></th>\n",
              "      <th></th>\n",
              "      <th></th>\n",
              "    </tr>\n",
              "  </thead>\n",
              "  <tbody>\n",
              "    <tr>\n",
              "      <th>fail</th>\n",
              "      <td>435</td>\n",
              "      <td>435</td>\n",
              "      <td>435</td>\n",
              "      <td>435</td>\n",
              "      <td>435</td>\n",
              "      <td>435</td>\n",
              "      <td>435</td>\n",
              "      <td>435</td>\n",
              "      <td>435</td>\n",
              "      <td>435</td>\n",
              "      <td>435</td>\n",
              "    </tr>\n",
              "    <tr>\n",
              "      <th>sell</th>\n",
              "      <td>565</td>\n",
              "      <td>565</td>\n",
              "      <td>565</td>\n",
              "      <td>565</td>\n",
              "      <td>565</td>\n",
              "      <td>565</td>\n",
              "      <td>565</td>\n",
              "      <td>565</td>\n",
              "      <td>565</td>\n",
              "      <td>565</td>\n",
              "      <td>565</td>\n",
              "    </tr>\n",
              "  </tbody>\n",
              "</table>\n",
              "</div>"
            ],
            "text/plain": [
              "      TID  Sex  Price  Category  ...  Material  Origin  Sales_channel  Season\n",
              "s/n                              ...                                         \n",
              "fail  435  435    435       435  ...       435     435            435     435\n",
              "sell  565  565    565       565  ...       565     565            565     565\n",
              "\n",
              "[2 rows x 11 columns]"
            ]
          },
          "metadata": {
            "tags": []
          },
          "execution_count": 260
        }
      ]
    },
    {
      "cell_type": "code",
      "metadata": {
        "id": "Fr9fnYU2vznU"
      },
      "source": [
        "df.to_csv('result_my.csv',index=False,header=True)"
      ],
      "execution_count": null,
      "outputs": []
    },
    {
      "cell_type": "code",
      "metadata": {
        "id": "_vieETYUzqRf"
      },
      "source": [
        "le = LabelEncoder()      \n",
        "for i in range(1,len(colunms_name)):\n",
        "  le.fit(df[colunms_name[i]])                         \n",
        "  df[colunms_name[i]]= le.transform(df[colunms_name[i]])  \n",
        "\n",
        "le.fit(df['s/n'])\n",
        "df['s/n']=le.transform(df['s/n'])"
      ],
      "execution_count": null,
      "outputs": []
    },
    {
      "cell_type": "code",
      "metadata": {
        "id": "jQDQXpD30dAN"
      },
      "source": [
        "df.to_csv('result_my_num.csv',index=False,header=True)"
      ],
      "execution_count": null,
      "outputs": []
    },
    {
      "cell_type": "markdown",
      "metadata": {
        "id": "Dsy0ukh2zOcz"
      },
      "source": [
        "# scikit-learn 套件應用"
      ]
    },
    {
      "cell_type": "markdown",
      "metadata": {
        "id": "Y8H14UPhzfEO"
      },
      "source": [
        "## Import "
      ]
    },
    {
      "cell_type": "code",
      "metadata": {
        "id": "MkgJt_sOX05L"
      },
      "source": [
        "import sklearn\n",
        "\n",
        "# 處理資料時會用到的工具\n",
        "\n",
        "import numpy as np\n",
        "import pandas as pd\n",
        "import matplotlib.pyplot as plt\n",
        "import seaborn as sns\n",
        "\n",
        "# 儲存模型的工具\n",
        "import pickle"
      ],
      "execution_count": null,
      "outputs": []
    },
    {
      "cell_type": "markdown",
      "metadata": {
        "id": "PIsEJi6QzNJL"
      },
      "source": [
        "## Pretreatment"
      ]
    },
    {
      "cell_type": "code",
      "metadata": {
        "id": "g7mwfyIbaIH2",
        "colab": {
          "base_uri": "https://localhost:8080/",
          "height": 224
        },
        "outputId": "3aaba08f-2c56-40fa-8d80-8771a3bed4be"
      },
      "source": [
        "train_df = pd.read_csv('result_my_num.csv') # 讀取訓練資料\n",
        "train_df.head(5)                                   "
      ],
      "execution_count": null,
      "outputs": [
        {
          "output_type": "execute_result",
          "data": {
            "text/html": [
              "<div>\n",
              "<style scoped>\n",
              "    .dataframe tbody tr th:only-of-type {\n",
              "        vertical-align: middle;\n",
              "    }\n",
              "\n",
              "    .dataframe tbody tr th {\n",
              "        vertical-align: top;\n",
              "    }\n",
              "\n",
              "    .dataframe thead th {\n",
              "        text-align: right;\n",
              "    }\n",
              "</style>\n",
              "<table border=\"1\" class=\"dataframe\">\n",
              "  <thead>\n",
              "    <tr style=\"text-align: right;\">\n",
              "      <th></th>\n",
              "      <th>TID</th>\n",
              "      <th>Sex</th>\n",
              "      <th>Price</th>\n",
              "      <th>Category</th>\n",
              "      <th>Color</th>\n",
              "      <th>Size</th>\n",
              "      <th>Brand</th>\n",
              "      <th>Material</th>\n",
              "      <th>Origin</th>\n",
              "      <th>Sales_channel</th>\n",
              "      <th>Season</th>\n",
              "      <th>s/n</th>\n",
              "    </tr>\n",
              "  </thead>\n",
              "  <tbody>\n",
              "    <tr>\n",
              "      <th>0</th>\n",
              "      <td>0</td>\n",
              "      <td>0</td>\n",
              "      <td>17</td>\n",
              "      <td>8</td>\n",
              "      <td>3</td>\n",
              "      <td>2</td>\n",
              "      <td>7</td>\n",
              "      <td>0</td>\n",
              "      <td>4</td>\n",
              "      <td>1</td>\n",
              "      <td>2</td>\n",
              "      <td>1</td>\n",
              "    </tr>\n",
              "    <tr>\n",
              "      <th>1</th>\n",
              "      <td>1</td>\n",
              "      <td>0</td>\n",
              "      <td>10</td>\n",
              "      <td>5</td>\n",
              "      <td>4</td>\n",
              "      <td>0</td>\n",
              "      <td>4</td>\n",
              "      <td>6</td>\n",
              "      <td>2</td>\n",
              "      <td>3</td>\n",
              "      <td>3</td>\n",
              "      <td>0</td>\n",
              "    </tr>\n",
              "    <tr>\n",
              "      <th>2</th>\n",
              "      <td>2</td>\n",
              "      <td>0</td>\n",
              "      <td>8</td>\n",
              "      <td>9</td>\n",
              "      <td>2</td>\n",
              "      <td>0</td>\n",
              "      <td>6</td>\n",
              "      <td>2</td>\n",
              "      <td>5</td>\n",
              "      <td>2</td>\n",
              "      <td>2</td>\n",
              "      <td>1</td>\n",
              "    </tr>\n",
              "    <tr>\n",
              "      <th>3</th>\n",
              "      <td>3</td>\n",
              "      <td>1</td>\n",
              "      <td>11</td>\n",
              "      <td>6</td>\n",
              "      <td>2</td>\n",
              "      <td>5</td>\n",
              "      <td>7</td>\n",
              "      <td>8</td>\n",
              "      <td>3</td>\n",
              "      <td>2</td>\n",
              "      <td>0</td>\n",
              "      <td>0</td>\n",
              "    </tr>\n",
              "    <tr>\n",
              "      <th>4</th>\n",
              "      <td>4</td>\n",
              "      <td>0</td>\n",
              "      <td>12</td>\n",
              "      <td>6</td>\n",
              "      <td>7</td>\n",
              "      <td>1</td>\n",
              "      <td>2</td>\n",
              "      <td>9</td>\n",
              "      <td>0</td>\n",
              "      <td>2</td>\n",
              "      <td>2</td>\n",
              "      <td>0</td>\n",
              "    </tr>\n",
              "  </tbody>\n",
              "</table>\n",
              "</div>"
            ],
            "text/plain": [
              "   TID  Sex  Price  Category  ...  Origin  Sales_channel  Season  s/n\n",
              "0    0    0     17         8  ...       4              1       2    1\n",
              "1    1    0     10         5  ...       2              3       3    0\n",
              "2    2    0      8         9  ...       5              2       2    1\n",
              "3    3    1     11         6  ...       3              2       0    0\n",
              "4    4    0     12         6  ...       0              2       2    0\n",
              "\n",
              "[5 rows x 12 columns]"
            ]
          },
          "metadata": {
            "tags": []
          },
          "execution_count": 265
        }
      ]
    },
    {
      "cell_type": "code",
      "metadata": {
        "id": "bdb1yloFfoLU",
        "colab": {
          "base_uri": "https://localhost:8080/"
        },
        "outputId": "f102c156-8aaa-4ec3-d505-f83e70b317f1"
      },
      "source": [
        "train_df.info()"
      ],
      "execution_count": null,
      "outputs": [
        {
          "output_type": "stream",
          "text": [
            "<class 'pandas.core.frame.DataFrame'>\n",
            "RangeIndex: 1000 entries, 0 to 999\n",
            "Data columns (total 12 columns):\n",
            " #   Column         Non-Null Count  Dtype\n",
            "---  ------         --------------  -----\n",
            " 0   TID            1000 non-null   int64\n",
            " 1   Sex            1000 non-null   int64\n",
            " 2   Price          1000 non-null   int64\n",
            " 3   Category       1000 non-null   int64\n",
            " 4   Color          1000 non-null   int64\n",
            " 5   Size           1000 non-null   int64\n",
            " 6   Brand          1000 non-null   int64\n",
            " 7   Material       1000 non-null   int64\n",
            " 8   Origin         1000 non-null   int64\n",
            " 9   Sales_channel  1000 non-null   int64\n",
            " 10  Season         1000 non-null   int64\n",
            " 11  s/n            1000 non-null   int64\n",
            "dtypes: int64(12)\n",
            "memory usage: 93.9 KB\n"
          ],
          "name": "stdout"
        }
      ]
    },
    {
      "cell_type": "code",
      "metadata": {
        "id": "J38-sN2-f1_t",
        "colab": {
          "base_uri": "https://localhost:8080/",
          "height": 317
        },
        "outputId": "817a918b-7ba4-4bb7-c4e8-83ec1d865009"
      },
      "source": [
        "train_df.describe()"
      ],
      "execution_count": null,
      "outputs": [
        {
          "output_type": "execute_result",
          "data": {
            "text/html": [
              "<div>\n",
              "<style scoped>\n",
              "    .dataframe tbody tr th:only-of-type {\n",
              "        vertical-align: middle;\n",
              "    }\n",
              "\n",
              "    .dataframe tbody tr th {\n",
              "        vertical-align: top;\n",
              "    }\n",
              "\n",
              "    .dataframe thead th {\n",
              "        text-align: right;\n",
              "    }\n",
              "</style>\n",
              "<table border=\"1\" class=\"dataframe\">\n",
              "  <thead>\n",
              "    <tr style=\"text-align: right;\">\n",
              "      <th></th>\n",
              "      <th>TID</th>\n",
              "      <th>Sex</th>\n",
              "      <th>Price</th>\n",
              "      <th>Category</th>\n",
              "      <th>Color</th>\n",
              "      <th>Size</th>\n",
              "      <th>Brand</th>\n",
              "      <th>Material</th>\n",
              "      <th>Origin</th>\n",
              "      <th>Sales_channel</th>\n",
              "      <th>Season</th>\n",
              "      <th>s/n</th>\n",
              "    </tr>\n",
              "  </thead>\n",
              "  <tbody>\n",
              "    <tr>\n",
              "      <th>count</th>\n",
              "      <td>1000.000000</td>\n",
              "      <td>1000.000000</td>\n",
              "      <td>1000.000000</td>\n",
              "      <td>1000.000000</td>\n",
              "      <td>1000.000000</td>\n",
              "      <td>1000.000000</td>\n",
              "      <td>1000.00000</td>\n",
              "      <td>1000.000000</td>\n",
              "      <td>1000.000000</td>\n",
              "      <td>1000.000000</td>\n",
              "      <td>1000.000000</td>\n",
              "      <td>1000.000000</td>\n",
              "    </tr>\n",
              "    <tr>\n",
              "      <th>mean</th>\n",
              "      <td>499.500000</td>\n",
              "      <td>0.519000</td>\n",
              "      <td>9.444000</td>\n",
              "      <td>5.302000</td>\n",
              "      <td>4.457000</td>\n",
              "      <td>3.452000</td>\n",
              "      <td>3.50600</td>\n",
              "      <td>4.504000</td>\n",
              "      <td>2.981000</td>\n",
              "      <td>1.940000</td>\n",
              "      <td>1.509000</td>\n",
              "      <td>0.565000</td>\n",
              "    </tr>\n",
              "    <tr>\n",
              "      <th>std</th>\n",
              "      <td>288.819436</td>\n",
              "      <td>0.499889</td>\n",
              "      <td>5.759691</td>\n",
              "      <td>3.365133</td>\n",
              "      <td>2.902512</td>\n",
              "      <td>2.305865</td>\n",
              "      <td>2.31891</td>\n",
              "      <td>2.857998</td>\n",
              "      <td>2.086862</td>\n",
              "      <td>1.397266</td>\n",
              "      <td>1.099604</td>\n",
              "      <td>0.496005</td>\n",
              "    </tr>\n",
              "    <tr>\n",
              "      <th>min</th>\n",
              "      <td>0.000000</td>\n",
              "      <td>0.000000</td>\n",
              "      <td>0.000000</td>\n",
              "      <td>0.000000</td>\n",
              "      <td>0.000000</td>\n",
              "      <td>0.000000</td>\n",
              "      <td>0.00000</td>\n",
              "      <td>0.000000</td>\n",
              "      <td>0.000000</td>\n",
              "      <td>0.000000</td>\n",
              "      <td>0.000000</td>\n",
              "      <td>0.000000</td>\n",
              "    </tr>\n",
              "    <tr>\n",
              "      <th>25%</th>\n",
              "      <td>249.750000</td>\n",
              "      <td>0.000000</td>\n",
              "      <td>4.000000</td>\n",
              "      <td>2.000000</td>\n",
              "      <td>2.000000</td>\n",
              "      <td>1.000000</td>\n",
              "      <td>1.00000</td>\n",
              "      <td>2.000000</td>\n",
              "      <td>1.000000</td>\n",
              "      <td>1.000000</td>\n",
              "      <td>1.000000</td>\n",
              "      <td>0.000000</td>\n",
              "    </tr>\n",
              "    <tr>\n",
              "      <th>50%</th>\n",
              "      <td>499.500000</td>\n",
              "      <td>1.000000</td>\n",
              "      <td>9.000000</td>\n",
              "      <td>5.000000</td>\n",
              "      <td>4.000000</td>\n",
              "      <td>3.000000</td>\n",
              "      <td>4.00000</td>\n",
              "      <td>5.000000</td>\n",
              "      <td>3.000000</td>\n",
              "      <td>2.000000</td>\n",
              "      <td>2.000000</td>\n",
              "      <td>1.000000</td>\n",
              "    </tr>\n",
              "    <tr>\n",
              "      <th>75%</th>\n",
              "      <td>749.250000</td>\n",
              "      <td>1.000000</td>\n",
              "      <td>14.000000</td>\n",
              "      <td>8.000000</td>\n",
              "      <td>7.000000</td>\n",
              "      <td>5.000000</td>\n",
              "      <td>6.00000</td>\n",
              "      <td>7.000000</td>\n",
              "      <td>5.000000</td>\n",
              "      <td>3.000000</td>\n",
              "      <td>2.000000</td>\n",
              "      <td>1.000000</td>\n",
              "    </tr>\n",
              "    <tr>\n",
              "      <th>max</th>\n",
              "      <td>999.000000</td>\n",
              "      <td>1.000000</td>\n",
              "      <td>19.000000</td>\n",
              "      <td>11.000000</td>\n",
              "      <td>9.000000</td>\n",
              "      <td>7.000000</td>\n",
              "      <td>7.00000</td>\n",
              "      <td>9.000000</td>\n",
              "      <td>6.000000</td>\n",
              "      <td>4.000000</td>\n",
              "      <td>3.000000</td>\n",
              "      <td>1.000000</td>\n",
              "    </tr>\n",
              "  </tbody>\n",
              "</table>\n",
              "</div>"
            ],
            "text/plain": [
              "               TID          Sex  ...       Season          s/n\n",
              "count  1000.000000  1000.000000  ...  1000.000000  1000.000000\n",
              "mean    499.500000     0.519000  ...     1.509000     0.565000\n",
              "std     288.819436     0.499889  ...     1.099604     0.496005\n",
              "min       0.000000     0.000000  ...     0.000000     0.000000\n",
              "25%     249.750000     0.000000  ...     1.000000     0.000000\n",
              "50%     499.500000     1.000000  ...     2.000000     1.000000\n",
              "75%     749.250000     1.000000  ...     2.000000     1.000000\n",
              "max     999.000000     1.000000  ...     3.000000     1.000000\n",
              "\n",
              "[8 rows x 12 columns]"
            ]
          },
          "metadata": {
            "tags": []
          },
          "execution_count": 267
        }
      ]
    },
    {
      "cell_type": "code",
      "metadata": {
        "id": "OY2Yuu46f8Pe"
      },
      "source": [
        "columns=['Sex','Price','Category','Color','Size','Brand','Material','Origin','Sales_channel','Season']\n",
        "train_x = train_df[columns]  # 取出訓練資料需要分析的資料欄位\n",
        "train_y = train_df['s/n']     # 取出訓練資料的答案"
      ],
      "execution_count": null,
      "outputs": []
    },
    {
      "cell_type": "code",
      "metadata": {
        "id": "eiZ4N2h9hLXv",
        "colab": {
          "base_uri": "https://localhost:8080/"
        },
        "outputId": "219dbd48-7d1b-468a-975c-d4f5c398ecd4"
      },
      "source": [
        "# 任務類型 & 標記資料\n",
        "# 本範例使用 titanic 資料集，所以為類別預測 + 監督式學習\n",
        "\n",
        "from sklearn.tree import DecisionTreeClassifier # 匯入決策樹模型\n",
        "from sklearn.metrics import accuracy_score      # 匯入準確度計算工具\n",
        "\n",
        "model = DecisionTreeClassifier()                # 創造決策樹模型\n",
        "model.fit(train_x, train_y)                     # 訓練決策樹模型\n",
        "\n",
        "pred_y = model.predict(train_x)                 # 確認模型是否訓練成功\n",
        "acc = accuracy_score(train_y, pred_y)           # 計算準確度\n",
        "\n",
        "print('accuracy: {}'.format(acc))               # 輸出準確度"
      ],
      "execution_count": null,
      "outputs": [
        {
          "output_type": "stream",
          "text": [
            "accuracy: 1.0\n"
          ],
          "name": "stdout"
        }
      ]
    },
    {
      "cell_type": "markdown",
      "metadata": {
        "id": "szVPsFGEznBT"
      },
      "source": [
        "## Model"
      ]
    },
    {
      "cell_type": "code",
      "metadata": {
        "colab": {
          "base_uri": "https://localhost:8080/"
        },
        "id": "S4vxlATtzAuX",
        "outputId": "77e691c6-2664-4323-e846-958307cdfb7e"
      },
      "source": [
        "# 驗證資料\n",
        "\n",
        "from sklearn.model_selection import train_test_split # 匯入分離訓練資料與驗證資料的工具\n",
        "from sklearn.tree import DecisionTreeClassifier      # 匯入決策樹模型\n",
        "from sklearn.metrics import accuracy_score           # 匯入準確度計算工具\n",
        "\n",
        "(train_x_split, valid_x_split,\n",
        " train_y_split, valid_y_split) = train_test_split(   # 分離訓練資料與驗證資料\n",
        "    train_x,                                         # 原始訓練資料\n",
        "    train_y,                                         # 原始訓練資料標記\n",
        "    test_size=0.33,                                  # 分離比例\n",
        "    random_state=1012                                # 控制隨機亂數\n",
        ")\n",
        "\n",
        "model = DecisionTreeClassifier(random_state=1012)    # 創造決策樹模型\n",
        "model.fit(train_x_split, train_y_split)              # 訓練決策樹模型\n",
        "\n",
        "train_pred_y = model.predict(train_x_split)          # 確認模型是否訓練成功\n",
        "train_acc = accuracy_score(train_y_split,            # 計算訓練資料準確度\n",
        "                           train_pred_y)\n",
        "valid_pred_y = model.predict(valid_x_split)          # 驗證模型是否訓練成功\n",
        "valid_acc = accuracy_score(valid_y_split,            # 計算驗證資料準確度\n",
        "                           valid_pred_y)\n",
        "\n",
        "print('train accuracy: {}'.format(train_acc))        # 輸出訓練準確度\n",
        "print('valid accuracy: {}'.format(valid_acc))        # 輸出驗證準確度\n"
      ],
      "execution_count": null,
      "outputs": [
        {
          "output_type": "stream",
          "text": [
            "train accuracy: 1.0\n",
            "valid accuracy: 0.7484848484848485\n"
          ],
          "name": "stdout"
        }
      ]
    },
    {
      "cell_type": "code",
      "metadata": {
        "colab": {
          "base_uri": "https://localhost:8080/"
        },
        "id": "L1j7IlKvzB1w",
        "outputId": "fa51c16b-6b0f-4e40-f085-45753876c05b"
      },
      "source": [
        "# 交叉驗證\n",
        "\n",
        "from sklearn.model_selection import KFold             # 匯入 K 次交叉驗證工具\n",
        "from sklearn.tree import DecisionTreeClassifier       # 匯入決策樹模型\n",
        "from sklearn.metrics import accuracy_score            # 匯入準確度計算工具\n",
        "\n",
        "kf = KFold(n_splits=3,                                # 設定 K 值\n",
        "           random_state=1012,\n",
        "           shuffle=True)\n",
        "kf.get_n_splits(train_x)                              # 給予資料範圍\n",
        "\n",
        "train_acc_list = []                                   # 儲存每次訓練模型的準確度\n",
        "valid_acc_list = []                                   # 儲存每次驗證模型的準確度\n",
        "\n",
        "for train_index, valid_index in kf.split(train_x):    # 每個迴圈都會產生不同部份的資料\n",
        "    train_x_split = train_x.iloc[train_index]         # 產生訓練資料\n",
        "    train_y_split = train_y.iloc[train_index]         # 產生訓練資料標籤\n",
        "    valid_x_split = train_x.iloc[valid_index]         # 產生驗證資料\n",
        "    valid_y_split = train_y.iloc[valid_index]         # 產生驗證資料標籤\n",
        "    \n",
        "    model = DecisionTreeClassifier(random_state=1012) # 創造決策樹模型\n",
        "    model.fit(train_x_split, train_y_split)           # 訓練決策樹模型\n",
        "    \n",
        "    train_pred_y = model.predict(train_x_split)       # 確認模型是否訓練成功\n",
        "    train_acc = accuracy_score(train_y_split,         # 計算訓練資料準確度\n",
        "                               train_pred_y)\n",
        "    valid_pred_y = model.predict(valid_x_split)       # 驗證模型是否訓練成功\n",
        "    valid_acc = accuracy_score(valid_y_split,         # 計算驗證資料準確度\n",
        "                               valid_pred_y)\n",
        "    \n",
        "    train_acc_list.append(train_acc)\n",
        "    valid_acc_list.append(valid_acc)\n",
        "\n",
        "\n",
        "    \n",
        "print((\n",
        "    'average train accuracy: {}\\n' +\n",
        "    'min train accuracy: {}\\n' +\n",
        "    'max train accuracy: {}').format(\n",
        "    np.mean(train_acc_list),                          # 輸出平均訓練準確度\n",
        "    np.min(train_acc_list),                           # 輸出最低訓練準確度\n",
        "    np.max(train_acc_list)                            # 輸出最高訓練準確度\n",
        "))\n",
        "print()\n",
        "print((\n",
        "    'average valid accuracy: {}\\n' +\n",
        "    'min valid accuracy: {}\\n' +\n",
        "    'max valid accuracy: {}').format(\n",
        "    np.mean(valid_acc_list),                          # 輸出平均驗證準確度\n",
        "    np.min(valid_acc_list),                           # 輸出最低驗證準確度\n",
        "    np.max(valid_acc_list)                            # 輸出最高驗證準確度\n",
        "))"
      ],
      "execution_count": null,
      "outputs": [
        {
          "output_type": "stream",
          "text": [
            "average train accuracy: 1.0\n",
            "min train accuracy: 1.0\n",
            "max train accuracy: 1.0\n",
            "\n",
            "average valid accuracy: 0.756954559349769\n",
            "min valid accuracy: 0.6936936936936937\n",
            "max valid accuracy: 0.8023952095808383\n"
          ],
          "name": "stdout"
        }
      ]
    },
    {
      "cell_type": "code",
      "metadata": {
        "colab": {
          "base_uri": "https://localhost:8080/",
          "height": 71
        },
        "id": "142MBYVUzG45",
        "outputId": "74bf4db8-a971-4fb0-941a-50ba83ec3b3b"
      },
      "source": [
        "# 類別預測 & 視覺化\n",
        "\n",
        "from sklearn.tree import DecisionTreeClassifier # 匯入決策樹模型\n",
        "from sklearn.tree import plot_tree              # 匯入決策樹繪圖工具\n",
        "from sklearn.metrics import accuracy_score      # 匯入準確度計算工具\n",
        "\n",
        "model = DecisionTreeClassifier(                 # 創造決策樹模型\n",
        "    criterion='gini',                           # 設定最佳化方法為 Gini Index\n",
        "    max_depth=3,                                # 設定最大深度為 3\n",
        "    max_leaf_nodes=2 ** 3)                      # 設定最多葉子個數為 8\n",
        "model.fit(train_x, train_y)                     # 訓練決策樹模型\n",
        "\n",
        "pred_y = model.predict(train_x)                 # 確認模型是否訓練成功\n",
        "acc = accuracy_score(train_y, pred_y)           # 計算準確度\n",
        "\n",
        "print('accuracy: {}'.format(acc))               # 輸出準確度\n",
        "\n",
        "fig, ax = plt.subplots(figsize=(15, 15))        # 創造繪圖環境\n",
        "\n",
        "plot_tree(model, ax=ax)                         # 繪製訓練後的模型\n",
        "\n",
        "plt.show()                                      # 繪製圖表"
      ],
      "execution_count": null,
      "outputs": [
        {
          "output_type": "stream",
          "text": [
            "accuracy: 0.718\n"
          ],
          "name": "stdout"
        },
        {
          "output_type": "display_data",
          "data": {
            "image/png": "[encoded data removed]",
            "text/plain": [
              "<Figure size 1080x1080 with 1 Axes>"
            ]
          },
          "metadata": {
            "tags": [],
            "needs_background": "light"
          }
        }
      ]
    },
    {
      "cell_type": "code",
      "metadata": {
        "colab": {
          "base_uri": "https://localhost:8080/",
          "height": 54
        },
        "id": "6dMn23yOtJSu",
        "outputId": "12a98de4-4c63-4fc7-ec90-a4b2c1a672cc"
      },
      "source": [
        "import pydotplus\n",
        "from IPython.display import Image\n",
        "dot_data = tree.export_graphviz(model, out_file=None, feature_names=columns, class_names=['fail','sell'], filled=True, rounded=True, special_characters=True)\n",
        "graph = pydotplus.graph_from_dot_data(dot_data)\n",
        "Image(graph.create_png())"
      ],
      "execution_count": null,
      "outputs": [
        {
          "output_type": "execute_result",
          "data": {
            "image/png": "[encoded data removed]",
            "text/plain": [
              "<IPython.core.display.Image object>"
            ]
          },
          "metadata": {
            "tags": []
          },
          "execution_count": 273
        }
      ]
    },
    {
      "cell_type": "code",
      "metadata": {
        "id": "PcjQ1vtM6ZIk"
      },
      "source": [
        "df_res=df\n",
        "df_res['pred']=pred_y"
      ],
      "execution_count": 281,
      "outputs": []
    },
    {
      "cell_type": "code",
      "metadata": {
        "id": "OmxB147T6evh"
      },
      "source": [
        "list=[]\n",
        "for i in range(len(df_res)):\n",
        "  if df['s/n'][i]== df['pred'][i]:\n",
        "    list.append(i)\n",
        "df_res=df_res.drop(list)"
      ],
      "execution_count": 283,
      "outputs": []
    },
    {
      "cell_type": "code",
      "metadata": {
        "colab": {
          "base_uri": "https://localhost:8080/",
          "height": 439
        },
        "id": "4QPvJpFs63yD",
        "outputId": "17c9211e-a453-42b7-a0ab-9f88b7e6ce35"
      },
      "source": [
        "df_res"
      ],
      "execution_count": 284,
      "outputs": [
        {
          "output_type": "execute_result",
          "data": {
            "text/html": [
              "<div>\n",
              "<style scoped>\n",
              "    .dataframe tbody tr th:only-of-type {\n",
              "        vertical-align: middle;\n",
              "    }\n",
              "\n",
              "    .dataframe tbody tr th {\n",
              "        vertical-align: top;\n",
              "    }\n",
              "\n",
              "    .dataframe thead th {\n",
              "        text-align: right;\n",
              "    }\n",
              "</style>\n",
              "<table border=\"1\" class=\"dataframe\">\n",
              "  <thead>\n",
              "    <tr style=\"text-align: right;\">\n",
              "      <th></th>\n",
              "      <th>TID</th>\n",
              "      <th>Sex</th>\n",
              "      <th>Price</th>\n",
              "      <th>Category</th>\n",
              "      <th>Color</th>\n",
              "      <th>Size</th>\n",
              "      <th>Brand</th>\n",
              "      <th>Material</th>\n",
              "      <th>Origin</th>\n",
              "      <th>Sales_channel</th>\n",
              "      <th>Season</th>\n",
              "      <th>s/n</th>\n",
              "      <th>pred</th>\n",
              "    </tr>\n",
              "  </thead>\n",
              "  <tbody>\n",
              "    <tr>\n",
              "      <th>3</th>\n",
              "      <td>3</td>\n",
              "      <td>1</td>\n",
              "      <td>11</td>\n",
              "      <td>6</td>\n",
              "      <td>2</td>\n",
              "      <td>5</td>\n",
              "      <td>7</td>\n",
              "      <td>8</td>\n",
              "      <td>3</td>\n",
              "      <td>2</td>\n",
              "      <td>0</td>\n",
              "      <td>0</td>\n",
              "      <td>1</td>\n",
              "    </tr>\n",
              "    <tr>\n",
              "      <th>12</th>\n",
              "      <td>12</td>\n",
              "      <td>0</td>\n",
              "      <td>11</td>\n",
              "      <td>1</td>\n",
              "      <td>2</td>\n",
              "      <td>4</td>\n",
              "      <td>3</td>\n",
              "      <td>6</td>\n",
              "      <td>2</td>\n",
              "      <td>2</td>\n",
              "      <td>2</td>\n",
              "      <td>1</td>\n",
              "      <td>0</td>\n",
              "    </tr>\n",
              "    <tr>\n",
              "      <th>17</th>\n",
              "      <td>17</td>\n",
              "      <td>1</td>\n",
              "      <td>5</td>\n",
              "      <td>11</td>\n",
              "      <td>6</td>\n",
              "      <td>0</td>\n",
              "      <td>4</td>\n",
              "      <td>3</td>\n",
              "      <td>3</td>\n",
              "      <td>1</td>\n",
              "      <td>2</td>\n",
              "      <td>1</td>\n",
              "      <td>0</td>\n",
              "    </tr>\n",
              "    <tr>\n",
              "      <th>24</th>\n",
              "      <td>24</td>\n",
              "      <td>1</td>\n",
              "      <td>5</td>\n",
              "      <td>4</td>\n",
              "      <td>3</td>\n",
              "      <td>0</td>\n",
              "      <td>3</td>\n",
              "      <td>9</td>\n",
              "      <td>0</td>\n",
              "      <td>4</td>\n",
              "      <td>0</td>\n",
              "      <td>1</td>\n",
              "      <td>0</td>\n",
              "    </tr>\n",
              "    <tr>\n",
              "      <th>26</th>\n",
              "      <td>26</td>\n",
              "      <td>0</td>\n",
              "      <td>6</td>\n",
              "      <td>0</td>\n",
              "      <td>2</td>\n",
              "      <td>5</td>\n",
              "      <td>3</td>\n",
              "      <td>7</td>\n",
              "      <td>0</td>\n",
              "      <td>0</td>\n",
              "      <td>0</td>\n",
              "      <td>1</td>\n",
              "      <td>0</td>\n",
              "    </tr>\n",
              "    <tr>\n",
              "      <th>...</th>\n",
              "      <td>...</td>\n",
              "      <td>...</td>\n",
              "      <td>...</td>\n",
              "      <td>...</td>\n",
              "      <td>...</td>\n",
              "      <td>...</td>\n",
              "      <td>...</td>\n",
              "      <td>...</td>\n",
              "      <td>...</td>\n",
              "      <td>...</td>\n",
              "      <td>...</td>\n",
              "      <td>...</td>\n",
              "      <td>...</td>\n",
              "    </tr>\n",
              "    <tr>\n",
              "      <th>984</th>\n",
              "      <td>984</td>\n",
              "      <td>0</td>\n",
              "      <td>13</td>\n",
              "      <td>9</td>\n",
              "      <td>8</td>\n",
              "      <td>6</td>\n",
              "      <td>6</td>\n",
              "      <td>2</td>\n",
              "      <td>0</td>\n",
              "      <td>0</td>\n",
              "      <td>0</td>\n",
              "      <td>0</td>\n",
              "      <td>1</td>\n",
              "    </tr>\n",
              "    <tr>\n",
              "      <th>985</th>\n",
              "      <td>985</td>\n",
              "      <td>1</td>\n",
              "      <td>11</td>\n",
              "      <td>6</td>\n",
              "      <td>8</td>\n",
              "      <td>6</td>\n",
              "      <td>0</td>\n",
              "      <td>3</td>\n",
              "      <td>3</td>\n",
              "      <td>2</td>\n",
              "      <td>2</td>\n",
              "      <td>1</td>\n",
              "      <td>0</td>\n",
              "    </tr>\n",
              "    <tr>\n",
              "      <th>988</th>\n",
              "      <td>988</td>\n",
              "      <td>1</td>\n",
              "      <td>4</td>\n",
              "      <td>2</td>\n",
              "      <td>6</td>\n",
              "      <td>6</td>\n",
              "      <td>5</td>\n",
              "      <td>4</td>\n",
              "      <td>5</td>\n",
              "      <td>4</td>\n",
              "      <td>3</td>\n",
              "      <td>0</td>\n",
              "      <td>1</td>\n",
              "    </tr>\n",
              "    <tr>\n",
              "      <th>996</th>\n",
              "      <td>996</td>\n",
              "      <td>0</td>\n",
              "      <td>18</td>\n",
              "      <td>8</td>\n",
              "      <td>5</td>\n",
              "      <td>2</td>\n",
              "      <td>0</td>\n",
              "      <td>2</td>\n",
              "      <td>3</td>\n",
              "      <td>2</td>\n",
              "      <td>2</td>\n",
              "      <td>1</td>\n",
              "      <td>0</td>\n",
              "    </tr>\n",
              "    <tr>\n",
              "      <th>997</th>\n",
              "      <td>997</td>\n",
              "      <td>1</td>\n",
              "      <td>11</td>\n",
              "      <td>0</td>\n",
              "      <td>8</td>\n",
              "      <td>1</td>\n",
              "      <td>0</td>\n",
              "      <td>6</td>\n",
              "      <td>3</td>\n",
              "      <td>3</td>\n",
              "      <td>1</td>\n",
              "      <td>1</td>\n",
              "      <td>0</td>\n",
              "    </tr>\n",
              "  </tbody>\n",
              "</table>\n",
              "<p>282 rows × 13 columns</p>\n",
              "</div>"
            ],
            "text/plain": [
              "     TID  Sex  Price  Category  Color  ...  Origin  Sales_channel  Season  s/n  pred\n",
              "3      3    1     11         6      2  ...       3              2       0    0     1\n",
              "12    12    0     11         1      2  ...       2              2       2    1     0\n",
              "17    17    1      5        11      6  ...       3              1       2    1     0\n",
              "24    24    1      5         4      3  ...       0              4       0    1     0\n",
              "26    26    0      6         0      2  ...       0              0       0    1     0\n",
              "..   ...  ...    ...       ...    ...  ...     ...            ...     ...  ...   ...\n",
              "984  984    0     13         9      8  ...       0              0       0    0     1\n",
              "985  985    1     11         6      8  ...       3              2       2    1     0\n",
              "988  988    1      4         2      6  ...       5              4       3    0     1\n",
              "996  996    0     18         8      5  ...       3              2       2    1     0\n",
              "997  997    1     11         0      8  ...       3              3       1    1     0\n",
              "\n",
              "[282 rows x 13 columns]"
            ]
          },
          "metadata": {
            "tags": []
          },
          "execution_count": 284
        }
      ]
    },
    {
      "cell_type": "code",
      "metadata": {
        "colab": {
          "base_uri": "https://localhost:8080/",
          "height": 162
        },
        "id": "uQvybQbc8pHo",
        "outputId": "657036b9-c9c5-49d1-ec4e-08804b3d8ebf"
      },
      "source": [
        "df_res.groupby(['pred']).count()"
      ],
      "execution_count": 285,
      "outputs": [
        {
          "output_type": "execute_result",
          "data": {
            "text/html": [
              "<div>\n",
              "<style scoped>\n",
              "    .dataframe tbody tr th:only-of-type {\n",
              "        vertical-align: middle;\n",
              "    }\n",
              "\n",
              "    .dataframe tbody tr th {\n",
              "        vertical-align: top;\n",
              "    }\n",
              "\n",
              "    .dataframe thead th {\n",
              "        text-align: right;\n",
              "    }\n",
              "</style>\n",
              "<table border=\"1\" class=\"dataframe\">\n",
              "  <thead>\n",
              "    <tr style=\"text-align: right;\">\n",
              "      <th></th>\n",
              "      <th>TID</th>\n",
              "      <th>Sex</th>\n",
              "      <th>Price</th>\n",
              "      <th>Category</th>\n",
              "      <th>Color</th>\n",
              "      <th>Size</th>\n",
              "      <th>Brand</th>\n",
              "      <th>Material</th>\n",
              "      <th>Origin</th>\n",
              "      <th>Sales_channel</th>\n",
              "      <th>Season</th>\n",
              "      <th>s/n</th>\n",
              "    </tr>\n",
              "    <tr>\n",
              "      <th>pred</th>\n",
              "      <th></th>\n",
              "      <th></th>\n",
              "      <th></th>\n",
              "      <th></th>\n",
              "      <th></th>\n",
              "      <th></th>\n",
              "      <th></th>\n",
              "      <th></th>\n",
              "      <th></th>\n",
              "      <th></th>\n",
              "      <th></th>\n",
              "      <th></th>\n",
              "    </tr>\n",
              "  </thead>\n",
              "  <tbody>\n",
              "    <tr>\n",
              "      <th>0</th>\n",
              "      <td>155</td>\n",
              "      <td>155</td>\n",
              "      <td>155</td>\n",
              "      <td>155</td>\n",
              "      <td>155</td>\n",
              "      <td>155</td>\n",
              "      <td>155</td>\n",
              "      <td>155</td>\n",
              "      <td>155</td>\n",
              "      <td>155</td>\n",
              "      <td>155</td>\n",
              "      <td>155</td>\n",
              "    </tr>\n",
              "    <tr>\n",
              "      <th>1</th>\n",
              "      <td>127</td>\n",
              "      <td>127</td>\n",
              "      <td>127</td>\n",
              "      <td>127</td>\n",
              "      <td>127</td>\n",
              "      <td>127</td>\n",
              "      <td>127</td>\n",
              "      <td>127</td>\n",
              "      <td>127</td>\n",
              "      <td>127</td>\n",
              "      <td>127</td>\n",
              "      <td>127</td>\n",
              "    </tr>\n",
              "  </tbody>\n",
              "</table>\n",
              "</div>"
            ],
            "text/plain": [
              "      TID  Sex  Price  Category  ...  Origin  Sales_channel  Season  s/n\n",
              "pred                             ...                                    \n",
              "0     155  155    155       155  ...     155            155     155  155\n",
              "1     127  127    127       127  ...     127            127     127  127\n",
              "\n",
              "[2 rows x 12 columns]"
            ]
          },
          "metadata": {
            "tags": []
          },
          "execution_count": 285
        }
      ]
    }
  ]
}